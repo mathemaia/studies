{
 "cells": [
  {
   "cell_type": "code",
   "execution_count": 1,
   "metadata": {},
   "outputs": [],
   "source": [
    "import inflect\n",
    "from datetime import datetime\n",
    "from datetime import time\n",
    "from datetime import date"
   ]
  },
  {
   "cell_type": "markdown",
   "metadata": {},
   "source": [
    "#\n",
    "# Creating objects"
   ]
  },
  {
   "cell_type": "code",
   "execution_count": 8,
   "metadata": {},
   "outputs": [
    {
     "name": "stdout",
     "output_type": "stream",
     "text": [
      "date:   1996-12-20\n",
      "time:   17:23:00\n"
     ]
    }
   ],
   "source": [
    "# creating an time object\n",
    "time_ = time(17, 23)\n",
    "\n",
    "# create an date object\n",
    "date_ = date(1996, 12, 20)\n",
    "\n",
    "# combining both in one object\n",
    "both = datetime.combine(date_, time_)\n",
    "\n",
    "print(f'date:   {both.date()}\\ntime:   {both.time()}')"
   ]
  },
  {
   "cell_type": "markdown",
   "metadata": {},
   "source": [
    "#\n",
    "# Manipulating the objects"
   ]
  },
  {
   "cell_type": "code",
   "execution_count": 13,
   "metadata": {},
   "outputs": [
    {
     "name": "stdout",
     "output_type": "stream",
     "text": [
      "17:23:00   -   17:21:34   =   0:01:26\n"
     ]
    }
   ],
   "source": [
    "# list of times\n",
    "time_list = ['17:21:34', '17:22:05', '17:23:00']\n",
    "\n",
    "# transform the strings in datetime objects\n",
    "times = [datetime.strptime(time, '%H:%M:%S') for time in time_list]\n",
    "\n",
    "# exemplo of operation\n",
    "time = times[2] - times[0]\n",
    "\n",
    "# turn the object time in string\n",
    "time = str(time)\n",
    "print(f'{str(times[2].time())}   -   {str(times[0].time())}   =   {time}')"
   ]
  },
  {
   "cell_type": "markdown",
   "metadata": {},
   "source": [
    "#\n",
    "# Counting the seconds and hours between two objects"
   ]
  },
  {
   "cell_type": "code",
   "execution_count": 11,
   "metadata": {},
   "outputs": [
    {
     "name": "stdout",
     "output_type": "stream",
     "text": [
      "15 seconds\n"
     ]
    }
   ],
   "source": [
    "# objects\n",
    "time1 = datetime(2023, 7, 19, 17, 30)\n",
    "time2 = datetime(2023, 7, 19, 17, 45)\n",
    "\n",
    "# calculating the diference\n",
    "diference = time2 - time1\n",
    "\n",
    "# getting the total seconds\n",
    "minutes = int(diference.total_seconds() / 60)\n",
    "print(minutes, 'seconds')"
   ]
  },
  {
   "cell_type": "markdown",
   "metadata": {},
   "source": [
    "#\n",
    "# Converting a datetime object in writeble"
   ]
  },
  {
   "cell_type": "code",
   "execution_count": 9,
   "metadata": {},
   "outputs": [
    {
     "name": "stdout",
     "output_type": "stream",
     "text": [
      "seventeenth horas, twenty-first minutos e thirty-fourth segundos\n"
     ]
    }
   ],
   "source": [
    "def time_to_words(time_string):\n",
    "    p = inflect.engine()\n",
    "\n",
    "    # Converter a string de tempo em um objeto datetime\n",
    "    time = datetime.strptime(time_string, '%H:%M:%S')\n",
    "\n",
    "    # Obter os componentes de hora, minuto e segundo\n",
    "    hora = time.hour\n",
    "    minuto = time.minute\n",
    "    segundo = time.second\n",
    "\n",
    "    # Converter os componentes em palavras por extenso\n",
    "    hora_extenso = p.number_to_words(p.ordinal(hora))\n",
    "    minuto_extenso = p.number_to_words(p.ordinal(minuto))\n",
    "    segundo_extenso = p.number_to_words(p.ordinal(segundo))\n",
    "\n",
    "    # Criar a notação por extenso\n",
    "    notation_extenso = f\"{hora_extenso} horas, {minuto_extenso} minutos e {segundo_extenso} segundos\"\n",
    "    return notation_extenso\n",
    "\n",
    "# Exemplo de uso\n",
    "tempo = '17:21:34'\n",
    "notacao_extenso = time_to_words(tempo)\n",
    "print(notacao_extenso)  # Saída: dezessete horas, vinte e um minutos e trinta e quatro segundos\n"
   ]
  },
  {
   "cell_type": "markdown",
   "metadata": {},
   "source": [
    "#\n",
    "# Working with graphics"
   ]
  },
  {
   "cell_type": "code",
   "execution_count": null,
   "metadata": {},
   "outputs": [],
   "source": []
  }
 ],
 "metadata": {
  "kernelspec": {
   "display_name": "machinelearning",
   "language": "python",
   "name": "python3"
  },
  "language_info": {
   "codemirror_mode": {
    "name": "ipython",
    "version": 3
   },
   "file_extension": ".py",
   "mimetype": "text/x-python",
   "name": "python",
   "nbconvert_exporter": "python",
   "pygments_lexer": "ipython3",
   "version": "3.11.3"
  },
  "orig_nbformat": 4
 },
 "nbformat": 4,
 "nbformat_minor": 2
}
