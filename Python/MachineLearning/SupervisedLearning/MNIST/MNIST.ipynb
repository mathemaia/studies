{
 "cells": [
  {
   "attachments": {},
   "cell_type": "markdown",
   "metadata": {},
   "source": [
    "# Creating the dataset"
   ]
  },
  {
   "cell_type": "code",
   "execution_count": null,
   "metadata": {},
   "outputs": [],
   "source": [
    "import torch\n",
    "from torch import nn\n",
    "import pandas as pd\n",
    "from PIL import Image\n",
    "import numpy as np\n",
    "import random\n",
    "from sklearn.model_selection import train_test_split\n",
    "import random\n",
    "\n",
    "device = torch.device('cuda' if torch.cuda.is_available() else 'cpu')\n",
    "print(f\"Using {device} device\")\n",
    "\n",
    "# Creates a dataframe to extract the data\n",
    "df = pd.read_csv('data/train.csv')\n",
    "\n",
    "# Create the dataset and split it in train and test\n",
    "X, y = np.array(df.loc[:, ~df.columns.isin(['label'])]), np.array(df['label'])\n",
    "X, y = torch.tensor(X).type(torch.float), torch.tensor(y).type(torch.LongTensor)\n",
    "X_train, X_test, y_train, y_test = train_test_split(X, y, test_size=0.2, random_state=42)\n",
    "X_train, X_test, y_train, y_test = X_train.to(device), X_test.to(device), y_train.to(device), y_test.to(device)\n",
    "\n",
    "X_train.shape, X_test.shape, y_train.shape, y_test.shape\n"
   ]
  },
  {
   "attachments": {},
   "cell_type": "markdown",
   "metadata": {},
   "source": [
    "# Vizualizing the images"
   ]
  },
  {
   "cell_type": "code",
   "execution_count": null,
   "metadata": {},
   "outputs": [],
   "source": [
    "imgs = np.array(df.loc[:, ~df.columns.isin(['label'])])\n",
    "\n",
    "# Defining the size of the matrix of numbers\n",
    "MATRIX_WIDTH = 70\n",
    "MATRIX_HEIGHT = 10\n",
    "\n",
    "# The size of each image\n",
    "IMAGE_WIDTH = 28\n",
    "IMAGE_HEIGHT = 28\n",
    "\n",
    "# Creates the matrix\n",
    "matrix = Image.new('L', (MATRIX_WIDTH * IMAGE_WIDTH, MATRIX_HEIGHT * IMAGE_HEIGHT))\n",
    "\n",
    "# Put random images in the matrix\n",
    "for i in range(MATRIX_HEIGHT):\n",
    "    for j in range(MATRIX_WIDTH):\n",
    "        image = Image.fromarray(imgs[random.randint(0, len(X))].reshape(28, 28).astype('uint8'), mode='L')\n",
    "        x = j * IMAGE_WIDTH\n",
    "        y = i * IMAGE_HEIGHT\n",
    "        matrix.paste(image, (x, y))\n",
    "\n",
    "display(matrix)"
   ]
  },
  {
   "attachments": {},
   "cell_type": "markdown",
   "metadata": {},
   "source": [
    "# The model"
   ]
  },
  {
   "cell_type": "code",
   "execution_count": null,
   "metadata": {},
   "outputs": [],
   "source": [
    "class MNIST(nn.Module):\n",
    "    def __init__(self) -> None:\n",
    "        super().__init__()\n",
    "        self.sequence = nn.Sequential(\n",
    "            nn.Linear(28*28, 512),\n",
    "            nn.LeakyReLU(),\n",
    "            nn.Linear(512, 256),\n",
    "            nn.LeakyReLU(),\n",
    "            nn.Linear(256, 128),\n",
    "            nn.LeakyReLU(),\n",
    "            nn.Linear(128, 64),\n",
    "            nn.LeakyReLU(),\n",
    "            nn.Linear(64, 10)\n",
    "        )\n",
    "\n",
    "    def forward(self, X: torch.Tensor) -> torch.Tensor:\n",
    "        return self.sequence(X)\n",
    "\n",
    "model = MNIST().to(device)\n",
    "display(model)"
   ]
  },
  {
   "attachments": {},
   "cell_type": "markdown",
   "metadata": {},
   "source": [
    "# Defining some hyperparameters"
   ]
  },
  {
   "cell_type": "code",
   "execution_count": null,
   "metadata": {},
   "outputs": [],
   "source": [
    "# Calculate the accuracy\n",
    "def accuracy_fn(y_true, y_pred):\n",
    "    correct = torch.eq(y_true, y_pred).sum().item()\n",
    "    acc = (correct / len(y_pred)) * 100\n",
    "    return acc\n",
    "\n",
    "# Loss function\n",
    "loss_fn = nn.CrossEntropyLoss()\n",
    "\n",
    "# Optmizer\n",
    "optimizer = torch.optim.Adam(params=model.parameters(), lr=0.0001)"
   ]
  },
  {
   "attachments": {},
   "cell_type": "markdown",
   "metadata": {},
   "source": [
    "# Training"
   ]
  },
  {
   "cell_type": "code",
   "execution_count": null,
   "metadata": {},
   "outputs": [],
   "source": [
    "epochs = 1000\n",
    "\n",
    "for epoch in range(epochs + 1):\n",
    "    ### Train\n",
    "    model.train()\n",
    "\n",
    "    # 1. Forward\n",
    "    pred = model(X_train)\n",
    "\n",
    "    # 2. Loss\n",
    "    loss = loss_fn(pred, y_train)\n",
    "\n",
    "    # 3. Backward\n",
    "    loss.backward()\n",
    "    optimizer.step()\n",
    "    optimizer.zero_grad()\n",
    "\n",
    "\n",
    "    ### Testing\n",
    "    model.eval()\n",
    "    with torch.inference_mode():\n",
    "        test_preds = torch.softmax(model(X_test), dim=1).argmax(dim=1)\n",
    "        test_acc = accuracy_fn(y_test, test_preds)\n",
    "\n",
    "    if epoch % 100 == 0:\n",
    "        print('Epoch: {:<5d}    | Loss: {:<.5f}    | Acc: {:.2f}%'.format(epoch, loss, test_acc))\n"
   ]
  },
  {
   "attachments": {},
   "cell_type": "markdown",
   "metadata": {},
   "source": [
    "# Predictions"
   ]
  },
  {
   "cell_type": "code",
   "execution_count": null,
   "metadata": {},
   "outputs": [],
   "source": [
    "model.eval()\n",
    "with torch.inference_mode():\n",
    "    y_logits = model(X_test)\n",
    "    a = random.randint(0, len(X_test))\n",
    "    b = a + 10\n",
    "\n",
    "    # Prediction\n",
    "    pred = torch.softmax(y_logits, dim=1).argmax(dim=1)\n",
    "    pred = pred[a:b].tolist()\n",
    "\n",
    "    # Correct labels\n",
    "    labels = y_test[a:b].tolist()\n",
    "\n",
    "print('Predictions:  ', pred)\n",
    "print('Labels:       ', labels)\n",
    "\n",
    "pred = torch.tensor(pred)\n",
    "labels = torch.tensor(labels)\n",
    "print(f'\\nCorrects: {torch.eq(pred, labels).sum().item()} / 10')"
   ]
  }
 ],
 "metadata": {
  "kernelspec": {
   "display_name": "Python 3",
   "language": "python",
   "name": "python3"
  },
  "language_info": {
   "codemirror_mode": {
    "name": "ipython",
    "version": 3
   },
   "file_extension": ".py",
   "mimetype": "text/x-python",
   "name": "python",
   "nbconvert_exporter": "python",
   "pygments_lexer": "ipython3",
   "version": "3.9.12"
  },
  "orig_nbformat": 4
 },
 "nbformat": 4,
 "nbformat_minor": 2
}
