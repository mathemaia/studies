{
 "cells": [
  {
   "cell_type": "code",
   "execution_count": 1,
   "metadata": {},
   "outputs": [],
   "source": [
    "import imgaug.augmenters as iaa\n",
    "import cv2\n",
    "import os"
   ]
  },
  {
   "cell_type": "code",
   "execution_count": 4,
   "metadata": {},
   "outputs": [],
   "source": [
    "# Pasta contendo as imagens originais\n",
    "input_folder = 'data/'\n",
    "# Pasta para salvar as imagens aumentadas\n",
    "output_folder = 'data_augmentation/'\n",
    "\n",
    "# Lista todas as imagens na pasta de entrada\n",
    "image_files = os.listdir(input_folder)\n",
    "\n",
    "# Define as técnicas de aumento de dados que você deseja aplicar\n",
    "augmenter_horizontal = iaa.Fliplr(1.0)  # Flip horizontal com probabilidade de 100%\n",
    "augmenter_vertical = iaa.Flipud(1.0)  # Flip vertical com probabilidade de 100%\n",
    "\n",
    "# Itera sobre as imagens na pasta de entrada\n",
    "for file in image_files:\n",
    "    # Carrega a imagem\n",
    "    image_path = os.path.join(input_folder, file)\n",
    "    image = cv2.imread(image_path)\n",
    "    \n",
    "    # Aplica o aumento de dados à imagem\n",
    "    augmented_image_horizontal = augmenter_horizontal(image=image)\n",
    "    augmented_image_vertical = augmenter_vertical(image=image)\n",
    "    \n",
    "    # Salva as imagens aumentadas na pasta de saída\n",
    "    output_path_horizontal = os.path.join(output_folder, f'{file}_horizontal.jpg')\n",
    "    output_path_vertical = os.path.join(output_folder, f'{file}_vertical.jpg')\n",
    "    cv2.imwrite(output_path_horizontal, augmented_image_horizontal)\n",
    "    cv2.imwrite(output_path_vertical, augmented_image_vertical)\n"
   ]
  }
 ],
 "metadata": {
  "kernelspec": {
   "display_name": "savefarm",
   "language": "python",
   "name": "python3"
  },
  "language_info": {
   "codemirror_mode": {
    "name": "ipython",
    "version": 3
   },
   "file_extension": ".py",
   "mimetype": "text/x-python",
   "name": "python",
   "nbconvert_exporter": "python",
   "pygments_lexer": "ipython3",
   "version": "3.11.3"
  },
  "orig_nbformat": 4
 },
 "nbformat": 4,
 "nbformat_minor": 2
}
