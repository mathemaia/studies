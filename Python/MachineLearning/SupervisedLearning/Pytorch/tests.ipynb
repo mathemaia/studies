{
 "cells": [
  {
   "cell_type": "code",
   "execution_count": 11,
   "metadata": {},
   "outputs": [],
   "source": [
    "import torch\n",
    "from torch import nn\n",
    "from torch.utils.data import Dataset, DataLoader\n",
    "import pandas as pd\n",
    "\n",
    "\n",
    "# Arquitetura da rede\n",
    "class NN(nn.Module):\n",
    "    def __init__(self):\n",
    "        super().__init__()\n",
    "        self.layers = nn.Sequential(\n",
    "            nn.Linear(2, 5),\n",
    "            nn.ReLu(),\n",
    "            nn.Linear(5, 1)\n",
    "        )\n",
    "\n",
    "    def forward(self, x):\n",
    "        return self.layers(x)\n",
    "    \n",
    "\n",
    "# Dataset\n",
    "class DS(Dataset):\n",
    "    def __init__(self):\n",
    "        self.data = pd.read_csv('train.csv')\n",
    "\n",
    "    def __len__(self):\n",
    "        return len(self.data)\n",
    "\n",
    "    def __getitem__(self, idx):\n",
    "        return self.data.iloc[idx]\n",
    "    \n",
    "\n",
    "dataset = DS()\n",
    "\n",
    "\n"
   ]
  },
  {
   "attachments": {},
   "cell_type": "markdown",
   "metadata": {},
   "source": [
    "<img src='simple_nn.png' width='300'>"
   ]
  },
  {
   "attachments": {},
   "cell_type": "markdown",
   "metadata": {},
   "source": [
    "# Neuronio"
   ]
  },
  {
   "cell_type": "code",
   "execution_count": null,
   "metadata": {},
   "outputs": [],
   "source": [
    "class Neuron:\n",
    "    def __init__(self, num_inputs):\n",
    "        '''Inicicializa o bias e os pesos'''\n",
    "        self.weights = [0.0] * num_inputs\n",
    "        self.bias = 0.0\n",
    "    \n",
    "\n",
    "    def forward(self, inputs):\n",
    "        '''Faz o somatório dos pesos pelas entradas e adiciona o bias'''\n",
    "        total = 0.0\n",
    "        for i in range(len(inputs)):\n",
    "            total += inputs[i] * self.weights[i]\n",
    "        total += self.bias\n",
    "\n",
    "        return total\n",
    "\n",
    "    \n",
    "    def backward(self, inputs, dw, db, error, learning_rate):\n",
    "        '''Faz o calculo do gradiente em relação às entradas e atualiza os pesos e o bias'''\n",
    "        gradient = [dw * error, db * error]\n",
    "        for i in range(len(inputs)):\n",
    "            \n",
    "\n",
    "\n",
    "        \n"
   ]
  }
 ],
 "metadata": {
  "kernelspec": {
   "display_name": "base",
   "language": "python",
   "name": "python3"
  },
  "language_info": {
   "codemirror_mode": {
    "name": "ipython",
    "version": 3
   },
   "file_extension": ".py",
   "mimetype": "text/x-python",
   "name": "python",
   "nbconvert_exporter": "python",
   "pygments_lexer": "ipython3",
   "version": "3.11.3"
  },
  "orig_nbformat": 4,
  "vscode": {
   "interpreter": {
    "hash": "ad1f547ca6bde2efe7e9b59d2fcba9fd38de7525bea4d95dd49cfbf16810227f"
   }
  }
 },
 "nbformat": 4,
 "nbformat_minor": 2
}
