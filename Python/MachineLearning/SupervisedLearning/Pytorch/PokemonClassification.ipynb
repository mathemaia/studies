{
 "cells": [
  {
   "attachments": {},
   "cell_type": "markdown",
   "metadata": {},
   "source": [
    "# Dataset"
   ]
  },
  {
   "cell_type": "code",
   "execution_count": 1,
   "metadata": {},
   "outputs": [
    {
     "name": "stderr",
     "output_type": "stream",
     "text": [
      "/home/matheus/miniconda3/lib/python3.9/site-packages/tqdm/auto.py:22: TqdmWarning: IProgress not found. Please update jupyter and ipywidgets. See https://ipywidgets.readthedocs.io/en/stable/user_install.html\n",
      "  from .autonotebook import tqdm as notebook_tqdm\n"
     ]
    },
    {
     "data": {
      "text/html": [
       "<div>\n",
       "<style scoped>\n",
       "    .dataframe tbody tr th:only-of-type {\n",
       "        vertical-align: middle;\n",
       "    }\n",
       "\n",
       "    .dataframe tbody tr th {\n",
       "        vertical-align: top;\n",
       "    }\n",
       "\n",
       "    .dataframe thead th {\n",
       "        text-align: right;\n",
       "    }\n",
       "</style>\n",
       "<table border=\"1\" class=\"dataframe\">\n",
       "  <thead>\n",
       "    <tr style=\"text-align: right;\">\n",
       "      <th></th>\n",
       "      <th>HP</th>\n",
       "      <th>Attack</th>\n",
       "      <th>Defense</th>\n",
       "      <th>Sp. Atk</th>\n",
       "      <th>Sp. Def</th>\n",
       "      <th>Speed</th>\n",
       "    </tr>\n",
       "  </thead>\n",
       "  <tbody>\n",
       "    <tr>\n",
       "      <th>0</th>\n",
       "      <td>0.173228</td>\n",
       "      <td>0.237838</td>\n",
       "      <td>0.179592</td>\n",
       "      <td>0.298913</td>\n",
       "      <td>0.195652</td>\n",
       "      <td>0.205128</td>\n",
       "    </tr>\n",
       "    <tr>\n",
       "      <th>1</th>\n",
       "      <td>0.232283</td>\n",
       "      <td>0.308108</td>\n",
       "      <td>0.236735</td>\n",
       "      <td>0.380435</td>\n",
       "      <td>0.260870</td>\n",
       "      <td>0.282051</td>\n",
       "    </tr>\n",
       "    <tr>\n",
       "      <th>2</th>\n",
       "      <td>0.311024</td>\n",
       "      <td>0.416216</td>\n",
       "      <td>0.318367</td>\n",
       "      <td>0.489130</td>\n",
       "      <td>0.347826</td>\n",
       "      <td>0.384615</td>\n",
       "    </tr>\n",
       "    <tr>\n",
       "      <th>3</th>\n",
       "      <td>0.311024</td>\n",
       "      <td>0.513514</td>\n",
       "      <td>0.481633</td>\n",
       "      <td>0.608696</td>\n",
       "      <td>0.434783</td>\n",
       "      <td>0.384615</td>\n",
       "    </tr>\n",
       "    <tr>\n",
       "      <th>4</th>\n",
       "      <td>0.149606</td>\n",
       "      <td>0.254054</td>\n",
       "      <td>0.155102</td>\n",
       "      <td>0.271739</td>\n",
       "      <td>0.130435</td>\n",
       "      <td>0.307692</td>\n",
       "    </tr>\n",
       "  </tbody>\n",
       "</table>\n",
       "</div>"
      ],
      "text/plain": [
       "         HP    Attack   Defense   Sp. Atk   Sp. Def     Speed\n",
       "0  0.173228  0.237838  0.179592  0.298913  0.195652  0.205128\n",
       "1  0.232283  0.308108  0.236735  0.380435  0.260870  0.282051\n",
       "2  0.311024  0.416216  0.318367  0.489130  0.347826  0.384615\n",
       "3  0.311024  0.513514  0.481633  0.608696  0.434783  0.384615\n",
       "4  0.149606  0.254054  0.155102  0.271739  0.130435  0.307692"
      ]
     },
     "metadata": {},
     "output_type": "display_data"
    },
    {
     "data": {
      "text/html": [
       "<div>\n",
       "<style scoped>\n",
       "    .dataframe tbody tr th:only-of-type {\n",
       "        vertical-align: middle;\n",
       "    }\n",
       "\n",
       "    .dataframe tbody tr th {\n",
       "        vertical-align: top;\n",
       "    }\n",
       "\n",
       "    .dataframe thead th {\n",
       "        text-align: right;\n",
       "    }\n",
       "</style>\n",
       "<table border=\"1\" class=\"dataframe\">\n",
       "  <thead>\n",
       "    <tr style=\"text-align: right;\">\n",
       "      <th></th>\n",
       "      <th>Type 1</th>\n",
       "      <th>HP</th>\n",
       "      <th>Attack</th>\n",
       "      <th>Defense</th>\n",
       "      <th>Sp. Atk</th>\n",
       "      <th>Sp. Def</th>\n",
       "      <th>Speed</th>\n",
       "    </tr>\n",
       "  </thead>\n",
       "  <tbody>\n",
       "    <tr>\n",
       "      <th>0</th>\n",
       "      <td>0</td>\n",
       "      <td>45</td>\n",
       "      <td>49</td>\n",
       "      <td>49</td>\n",
       "      <td>65</td>\n",
       "      <td>65</td>\n",
       "      <td>45</td>\n",
       "    </tr>\n",
       "    <tr>\n",
       "      <th>1</th>\n",
       "      <td>0</td>\n",
       "      <td>60</td>\n",
       "      <td>62</td>\n",
       "      <td>63</td>\n",
       "      <td>80</td>\n",
       "      <td>80</td>\n",
       "      <td>60</td>\n",
       "    </tr>\n",
       "    <tr>\n",
       "      <th>2</th>\n",
       "      <td>0</td>\n",
       "      <td>80</td>\n",
       "      <td>82</td>\n",
       "      <td>83</td>\n",
       "      <td>100</td>\n",
       "      <td>100</td>\n",
       "      <td>80</td>\n",
       "    </tr>\n",
       "    <tr>\n",
       "      <th>3</th>\n",
       "      <td>0</td>\n",
       "      <td>80</td>\n",
       "      <td>100</td>\n",
       "      <td>123</td>\n",
       "      <td>122</td>\n",
       "      <td>120</td>\n",
       "      <td>80</td>\n",
       "    </tr>\n",
       "    <tr>\n",
       "      <th>4</th>\n",
       "      <td>1</td>\n",
       "      <td>39</td>\n",
       "      <td>52</td>\n",
       "      <td>43</td>\n",
       "      <td>60</td>\n",
       "      <td>50</td>\n",
       "      <td>65</td>\n",
       "    </tr>\n",
       "  </tbody>\n",
       "</table>\n",
       "</div>"
      ],
      "text/plain": [
       "  Type 1  HP  Attack  Defense  Sp. Atk  Sp. Def  Speed\n",
       "0      0  45      49       49       65       65     45\n",
       "1      0  60      62       63       80       80     60\n",
       "2      0  80      82       83      100      100     80\n",
       "3      0  80     100      123      122      120     80\n",
       "4      1  39      52       43       60       50     65"
      ]
     },
     "metadata": {},
     "output_type": "display_data"
    }
   ],
   "source": [
    "import pandas as pd\n",
    "import torch\n",
    "from torch import nn\n",
    "import numpy as np\n",
    "from sklearn.model_selection import train_test_split\n",
    "\n",
    "# Creating a dataframe\n",
    "df = pd.read_csv('data/pokemons.csv')\n",
    "df = df.drop(['Unnamed: 0', '#', 'Name', 'Type 2', 'Total'], axis=1)\n",
    "df_numeric = df.copy()\n",
    "\n",
    "# Creating the dictionary of classes\n",
    "c = list(df['Type 1'].unique())\n",
    "classes = torch.tensor([x for x in range(len(c))])\n",
    "\n",
    "# Creating the numeric dataset\n",
    "for idx, type in enumerate(c):\n",
    "    df_numeric.loc[df['Type 1'] == type, 'Type 1'] = idx\n",
    "\n",
    "# Separating the dataset\n",
    "y = np.array(df_numeric['Type 1'], dtype=float)\n",
    "df = df.drop('Type 1', axis=1)\n",
    "df = (df - df.min()) / (df.max() - df.min())\n",
    "matrix = df.to_numpy()\n",
    "X = torch.from_numpy(matrix).type(torch.float)\n",
    "y = torch.from_numpy(y).type(torch.float)\n",
    "\n",
    "# Separating in train/test\n",
    "X_train, X_test, y_train, y_test = train_test_split(X, y, test_size=0.2, random_state=42)\n",
    "\n",
    "display(df.head(5))\n",
    "display(df_numeric.head(5))\n"
   ]
  },
  {
   "cell_type": "code",
   "execution_count": 16,
   "metadata": {},
   "outputs": [
    {
     "data": {
      "text/plain": [
       "tensor([0.3307, 0.5946, 0.3061, 0.5163, 0.2609, 0.2308])"
      ]
     },
     "execution_count": 16,
     "metadata": {},
     "output_type": "execute_result"
    }
   ],
   "source": [
    "X_train[0]"
   ]
  },
  {
   "attachments": {},
   "cell_type": "markdown",
   "metadata": {},
   "source": [
    "# Instaciating the model"
   ]
  },
  {
   "cell_type": "code",
   "execution_count": 18,
   "metadata": {},
   "outputs": [
    {
     "data": {
      "text/plain": [
       "PokemonClassifier(\n",
       "  (sequence): Sequential(\n",
       "    (0): Linear(in_features=6, out_features=128, bias=True)\n",
       "    (1): ReLU()\n",
       "    (2): Linear(in_features=128, out_features=64, bias=True)\n",
       "    (3): ReLU()\n",
       "    (4): Linear(in_features=64, out_features=18, bias=True)\n",
       "    (5): Softmax(dim=0)\n",
       "  )\n",
       ")"
      ]
     },
     "metadata": {},
     "output_type": "display_data"
    }
   ],
   "source": [
    "# Model\n",
    "class PokemonClassifier(nn.Module):\n",
    "    def __init__(self) -> None:\n",
    "        super().__init__()\n",
    "        self.sequence = nn.Sequential(\n",
    "            nn.Linear(6, 128),\n",
    "            nn.ReLU(),\n",
    "            nn.Linear(128, 64),\n",
    "            nn.ReLU(),\n",
    "            nn.Linear(64, 18),\n",
    "            nn.Softmax(dim=0)\n",
    "        )\n",
    "    \n",
    "    def forward(self, X: torch.Tensor) -> torch.Tensor:\n",
    "        return self.sequence(X)\n",
    "\n",
    "# Instaciating the model\n",
    "model = PokemonClassifier()\n",
    "display(model)"
   ]
  },
  {
   "attachments": {},
   "cell_type": "markdown",
   "metadata": {},
   "source": [
    "# Training the model"
   ]
  },
  {
   "cell_type": "code",
   "execution_count": 41,
   "metadata": {},
   "outputs": [
    {
     "name": "stdout",
     "output_type": "stream",
     "text": [
      "Epoch: 0       |  Loss: 88077.26562\n",
      "Epoch: 1       |  Loss: 88077.26562\n",
      "Epoch: 2       |  Loss: 88077.26562\n",
      "Epoch: 3       |  Loss: 88077.26562\n",
      "Epoch: 4       |  Loss: 88077.26562\n",
      "Epoch: 5       |  Loss: 88077.26562\n",
      "Epoch: 6       |  Loss: 88077.26562\n",
      "Epoch: 7       |  Loss: 88077.26562\n",
      "Epoch: 8       |  Loss: 88077.26562\n",
      "Epoch: 9       |  Loss: 88077.26562\n"
     ]
    }
   ],
   "source": [
    "# Loss function\n",
    "loss_fn = nn.CrossEntropyLoss()\n",
    "\n",
    "# Optimizer\n",
    "optimizer = torch.optim.SGD(params=model.parameters(), lr=0.5)\n",
    "\n",
    "# Write a training and evaluation loop for the model\n",
    "torch.manual_seed(42)\n",
    "torch.cuda.manual_seed(42)\n",
    "\n",
    "### Training\n",
    "epochs = 10\n",
    "model.train()\n",
    "for epoch in range(epochs):\n",
    "    # 1. Forward\n",
    "    pred = model(X_train)\n",
    "    pred = torch.argmax(pred, 1).type(torch.float).requires_grad_(True)\n",
    "    '''print(pred[:50])\n",
    "    print(y_train[:50])'''\n",
    "\n",
    "    # 2. Loss\n",
    "    loss = loss_fn(pred, y_train)\n",
    "\n",
    "    # 3. Backward\n",
    "    optimizer.zero_grad()\n",
    "    loss.backward()\n",
    "    optimizer.step()\n",
    "\n",
    "    print('Epoch: {:<5d}   |  Loss: {:.5f}'.format(epoch, loss))\n",
    "    \n",
    "\n",
    "\n",
    "\n",
    "\n",
    "    "
   ]
  },
  {
   "cell_type": "code",
   "execution_count": null,
   "metadata": {},
   "outputs": [
    {
     "name": "stdout",
     "output_type": "stream",
     "text": [
      "tensor([[ 0.3367,  0.1288,  0.2345],\n",
      "        [ 0.2303, -1.1229, -0.1863]])\n",
      "tensor([[0.3683, 0.2992, 0.3325],\n",
      "        [0.5215, 0.1348, 0.3438]])\n"
     ]
    }
   ],
   "source": [
    "m = nn.Softmax(dim=1)\n",
    "input = torch.randn(2, 3)\n",
    "output = m(input)\n",
    "print(input)\n",
    "print(output)"
   ]
  },
  {
   "cell_type": "code",
   "execution_count": null,
   "metadata": {},
   "outputs": [
    {
     "data": {
      "text/plain": [
       "'for i in range(len(X_train)):\\n\\n    # 1. Forward\\n    pred = model(X_train[i])\\n\\n    print(pred)\\n    print(y_train[i])\\n    \\n    # 2. Loss\\n    loss = loss_fn(pred, y_train[i])\\n\\n\\n    break'"
      ]
     },
     "execution_count": 6,
     "metadata": {},
     "output_type": "execute_result"
    }
   ],
   "source": [
    "'''for i in range(len(X_train)):\n",
    "\n",
    "    # 1. Forward\n",
    "    pred = model(X_train[i])\n",
    "\n",
    "    print(pred)\n",
    "    print(y_train[i])\n",
    "    \n",
    "    # 2. Loss\n",
    "    loss = loss_fn(pred, y_train[i])\n",
    "\n",
    "\n",
    "    break'''"
   ]
  },
  {
   "cell_type": "code",
   "execution_count": null,
   "metadata": {},
   "outputs": [
    {
     "data": {
      "text/plain": [
       "tensor([0.3307, 0.5946, 0.3061, 0.5163, 0.2609, 0.2308])"
      ]
     },
     "execution_count": 7,
     "metadata": {},
     "output_type": "execute_result"
    }
   ],
   "source": [
    "X_train[0]"
   ]
  }
 ],
 "metadata": {
  "kernelspec": {
   "display_name": "base",
   "language": "python",
   "name": "python3"
  },
  "language_info": {
   "codemirror_mode": {
    "name": "ipython",
    "version": 3
   },
   "file_extension": ".py",
   "mimetype": "text/x-python",
   "name": "python",
   "nbconvert_exporter": "python",
   "pygments_lexer": "ipython3",
   "version": "3.9.12"
  },
  "orig_nbformat": 4
 },
 "nbformat": 4,
 "nbformat_minor": 2
}
