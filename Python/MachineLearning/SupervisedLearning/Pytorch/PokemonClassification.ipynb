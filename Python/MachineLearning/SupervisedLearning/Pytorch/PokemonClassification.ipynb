{
 "cells": [
  {
   "cell_type": "code",
   "execution_count": 1,
   "metadata": {},
   "outputs": [],
   "source": [
    "import pandas as pd\n",
    "import torch\n",
    "from torch import nn\n",
    "import numpy as np\n",
    "from sklearn.model_selection import train_test_split\n",
    "from imblearn.over_sampling import RandomOverSampler\n",
    "import random"
   ]
  },
  {
   "attachments": {},
   "cell_type": "markdown",
   "metadata": {},
   "source": [
    "# Dataset and Data Analisys"
   ]
  },
  {
   "cell_type": "code",
   "execution_count": 37,
   "metadata": {},
   "outputs": [
    {
     "data": {
      "text/html": [
       "<div>\n",
       "<style scoped>\n",
       "    .dataframe tbody tr th:only-of-type {\n",
       "        vertical-align: middle;\n",
       "    }\n",
       "\n",
       "    .dataframe tbody tr th {\n",
       "        vertical-align: top;\n",
       "    }\n",
       "\n",
       "    .dataframe thead th {\n",
       "        text-align: right;\n",
       "    }\n",
       "</style>\n",
       "<table border=\"1\" class=\"dataframe\">\n",
       "  <thead>\n",
       "    <tr style=\"text-align: right;\">\n",
       "      <th></th>\n",
       "      <th>Type 1</th>\n",
       "      <th>HP</th>\n",
       "      <th>Attack</th>\n",
       "      <th>Defense</th>\n",
       "      <th>Sp. Atk</th>\n",
       "      <th>Sp. Def</th>\n",
       "      <th>Speed</th>\n",
       "    </tr>\n",
       "  </thead>\n",
       "  <tbody>\n",
       "    <tr>\n",
       "      <th>0</th>\n",
       "      <td>Grass</td>\n",
       "      <td>45</td>\n",
       "      <td>49</td>\n",
       "      <td>49</td>\n",
       "      <td>65</td>\n",
       "      <td>65</td>\n",
       "      <td>45</td>\n",
       "    </tr>\n",
       "    <tr>\n",
       "      <th>1</th>\n",
       "      <td>Grass</td>\n",
       "      <td>60</td>\n",
       "      <td>62</td>\n",
       "      <td>63</td>\n",
       "      <td>80</td>\n",
       "      <td>80</td>\n",
       "      <td>60</td>\n",
       "    </tr>\n",
       "    <tr>\n",
       "      <th>2</th>\n",
       "      <td>Grass</td>\n",
       "      <td>80</td>\n",
       "      <td>82</td>\n",
       "      <td>83</td>\n",
       "      <td>100</td>\n",
       "      <td>100</td>\n",
       "      <td>80</td>\n",
       "    </tr>\n",
       "    <tr>\n",
       "      <th>3</th>\n",
       "      <td>Grass</td>\n",
       "      <td>80</td>\n",
       "      <td>100</td>\n",
       "      <td>123</td>\n",
       "      <td>122</td>\n",
       "      <td>120</td>\n",
       "      <td>80</td>\n",
       "    </tr>\n",
       "    <tr>\n",
       "      <th>4</th>\n",
       "      <td>Fire</td>\n",
       "      <td>39</td>\n",
       "      <td>52</td>\n",
       "      <td>43</td>\n",
       "      <td>60</td>\n",
       "      <td>50</td>\n",
       "      <td>65</td>\n",
       "    </tr>\n",
       "    <tr>\n",
       "      <th>...</th>\n",
       "      <td>...</td>\n",
       "      <td>...</td>\n",
       "      <td>...</td>\n",
       "      <td>...</td>\n",
       "      <td>...</td>\n",
       "      <td>...</td>\n",
       "      <td>...</td>\n",
       "    </tr>\n",
       "    <tr>\n",
       "      <th>1189</th>\n",
       "      <td>Fairy</td>\n",
       "      <td>74</td>\n",
       "      <td>130</td>\n",
       "      <td>90</td>\n",
       "      <td>120</td>\n",
       "      <td>60</td>\n",
       "      <td>116</td>\n",
       "    </tr>\n",
       "    <tr>\n",
       "      <th>1190</th>\n",
       "      <td>Fighting</td>\n",
       "      <td>100</td>\n",
       "      <td>135</td>\n",
       "      <td>115</td>\n",
       "      <td>85</td>\n",
       "      <td>100</td>\n",
       "      <td>135</td>\n",
       "    </tr>\n",
       "    <tr>\n",
       "      <th>1191</th>\n",
       "      <td>Electric</td>\n",
       "      <td>100</td>\n",
       "      <td>85</td>\n",
       "      <td>100</td>\n",
       "      <td>135</td>\n",
       "      <td>115</td>\n",
       "      <td>135</td>\n",
       "    </tr>\n",
       "    <tr>\n",
       "      <th>1192</th>\n",
       "      <td>Water</td>\n",
       "      <td>99</td>\n",
       "      <td>83</td>\n",
       "      <td>91</td>\n",
       "      <td>125</td>\n",
       "      <td>83</td>\n",
       "      <td>109</td>\n",
       "    </tr>\n",
       "    <tr>\n",
       "      <th>1193</th>\n",
       "      <td>Grass</td>\n",
       "      <td>90</td>\n",
       "      <td>130</td>\n",
       "      <td>88</td>\n",
       "      <td>70</td>\n",
       "      <td>108</td>\n",
       "      <td>104</td>\n",
       "    </tr>\n",
       "  </tbody>\n",
       "</table>\n",
       "<p>1194 rows × 7 columns</p>\n",
       "</div>"
      ],
      "text/plain": [
       "        Type 1   HP  Attack  Defense  Sp. Atk  Sp. Def  Speed\n",
       "0        Grass   45      49       49       65       65     45\n",
       "1        Grass   60      62       63       80       80     60\n",
       "2        Grass   80      82       83      100      100     80\n",
       "3        Grass   80     100      123      122      120     80\n",
       "4         Fire   39      52       43       60       50     65\n",
       "...        ...  ...     ...      ...      ...      ...    ...\n",
       "1189     Fairy   74     130       90      120       60    116\n",
       "1190  Fighting  100     135      115       85      100    135\n",
       "1191  Electric  100      85      100      135      115    135\n",
       "1192     Water   99      83       91      125       83    109\n",
       "1193     Grass   90     130       88       70      108    104\n",
       "\n",
       "[1194 rows x 7 columns]"
      ]
     },
     "metadata": {},
     "output_type": "display_data"
    }
   ],
   "source": [
    "import pandas as pd\n",
    "import torch\n",
    "from torch import nn\n",
    "import numpy as np\n",
    "from sklearn.model_selection import train_test_split\n",
    "\n",
    "# Creating a dataframe\n",
    "df = pd.read_csv('data/pokemons.csv')\n",
    "df = df.drop(['Unnamed: 0', '#', 'Name', 'Type 2', 'Total'], axis=1)\n",
    "df_numeric = df.copy()\n",
    "display(df_numeric)\n",
    "\n",
    "# Creating the dictionary of classes\n",
    "c = list(df['Type 1'].unique())\n",
    "classes = torch.tensor([x for x in range(len(c))])\n",
    "\n",
    "# Creating the numeric dataset\n",
    "for idx, type in enumerate(c):\n",
    "    df_numeric.loc[df['Type 1'] == type, 'Type 1'] = idx"
   ]
  },
  {
   "cell_type": "code",
   "execution_count": 38,
   "metadata": {},
   "outputs": [
    {
     "data": {
      "text/plain": [
       "<Axes: xlabel='Type 1'>"
      ]
     },
     "execution_count": 38,
     "metadata": {},
     "output_type": "execute_result"
    },
    {
     "data": {
      "image/png": "[encoded data removed]",
      "text/plain": [
       "<Figure size 640x480 with 1 Axes>"
      ]
     },
     "metadata": {},
     "output_type": "display_data"
    }
   ],
   "source": [
    "X = df_numeric.drop('Type 1', axis=1)\n",
    "y = df_numeric['Type 1']\n",
    "y.value_counts().plot.bar()\n"
   ]
  },
  {
   "cell_type": "code",
   "execution_count": 39,
   "metadata": {},
   "outputs": [
    {
     "name": "stderr",
     "output_type": "stream",
     "text": [
      "/home/matheus/miniconda3/envs/pytorch/lib/python3.10/site-packages/imblearn/utils/_validation.py:313: UserWarning: After over-sampling, the number of samples (1000) in class 2 will be larger than the number of samples in the majority class (class #2 -> 150)\n",
      "  warnings.warn(\n",
      "/home/matheus/miniconda3/envs/pytorch/lib/python3.10/site-packages/imblearn/utils/_validation.py:313: UserWarning: After over-sampling, the number of samples (1000) in class 4 will be larger than the number of samples in the majority class (class #2 -> 150)\n",
      "  warnings.warn(\n",
      "/home/matheus/miniconda3/envs/pytorch/lib/python3.10/site-packages/imblearn/utils/_validation.py:313: UserWarning: After over-sampling, the number of samples (1000) in class 0 will be larger than the number of samples in the majority class (class #2 -> 150)\n",
      "  warnings.warn(\n",
      "/home/matheus/miniconda3/envs/pytorch/lib/python3.10/site-packages/imblearn/utils/_validation.py:313: UserWarning: After over-sampling, the number of samples (1000) in class 3 will be larger than the number of samples in the majority class (class #2 -> 150)\n",
      "  warnings.warn(\n",
      "/home/matheus/miniconda3/envs/pytorch/lib/python3.10/site-packages/imblearn/utils/_validation.py:313: UserWarning: After over-sampling, the number of samples (1000) in class 13 will be larger than the number of samples in the majority class (class #2 -> 150)\n",
      "  warnings.warn(\n",
      "/home/matheus/miniconda3/envs/pytorch/lib/python3.10/site-packages/imblearn/utils/_validation.py:313: UserWarning: After over-sampling, the number of samples (1000) in class 1 will be larger than the number of samples in the majority class (class #2 -> 150)\n",
      "  warnings.warn(\n",
      "/home/matheus/miniconda3/envs/pytorch/lib/python3.10/site-packages/imblearn/utils/_validation.py:313: UserWarning: After over-sampling, the number of samples (1000) in class 7 will be larger than the number of samples in the majority class (class #2 -> 150)\n",
      "  warnings.warn(\n",
      "/home/matheus/miniconda3/envs/pytorch/lib/python3.10/site-packages/imblearn/utils/_validation.py:313: UserWarning: After over-sampling, the number of samples (1000) in class 14 will be larger than the number of samples in the majority class (class #2 -> 150)\n",
      "  warnings.warn(\n",
      "/home/matheus/miniconda3/envs/pytorch/lib/python3.10/site-packages/imblearn/utils/_validation.py:313: UserWarning: After over-sampling, the number of samples (1000) in class 5 will be larger than the number of samples in the majority class (class #2 -> 150)\n",
      "  warnings.warn(\n",
      "/home/matheus/miniconda3/envs/pytorch/lib/python3.10/site-packages/imblearn/utils/_validation.py:313: UserWarning: After over-sampling, the number of samples (1000) in class 12 will be larger than the number of samples in the majority class (class #2 -> 150)\n",
      "  warnings.warn(\n",
      "/home/matheus/miniconda3/envs/pytorch/lib/python3.10/site-packages/imblearn/utils/_validation.py:313: UserWarning: After over-sampling, the number of samples (1000) in class 16 will be larger than the number of samples in the majority class (class #2 -> 150)\n",
      "  warnings.warn(\n",
      "/home/matheus/miniconda3/envs/pytorch/lib/python3.10/site-packages/imblearn/utils/_validation.py:313: UserWarning: After over-sampling, the number of samples (1000) in class 15 will be larger than the number of samples in the majority class (class #2 -> 150)\n",
      "  warnings.warn(\n",
      "/home/matheus/miniconda3/envs/pytorch/lib/python3.10/site-packages/imblearn/utils/_validation.py:313: UserWarning: After over-sampling, the number of samples (1000) in class 8 will be larger than the number of samples in the majority class (class #2 -> 150)\n",
      "  warnings.warn(\n",
      "/home/matheus/miniconda3/envs/pytorch/lib/python3.10/site-packages/imblearn/utils/_validation.py:313: UserWarning: After over-sampling, the number of samples (1000) in class 6 will be larger than the number of samples in the majority class (class #2 -> 150)\n",
      "  warnings.warn(\n",
      "/home/matheus/miniconda3/envs/pytorch/lib/python3.10/site-packages/imblearn/utils/_validation.py:313: UserWarning: After over-sampling, the number of samples (1000) in class 9 will be larger than the number of samples in the majority class (class #2 -> 150)\n",
      "  warnings.warn(\n",
      "/home/matheus/miniconda3/envs/pytorch/lib/python3.10/site-packages/imblearn/utils/_validation.py:313: UserWarning: After over-sampling, the number of samples (1000) in class 11 will be larger than the number of samples in the majority class (class #2 -> 150)\n",
      "  warnings.warn(\n",
      "/home/matheus/miniconda3/envs/pytorch/lib/python3.10/site-packages/imblearn/utils/_validation.py:313: UserWarning: After over-sampling, the number of samples (1000) in class 10 will be larger than the number of samples in the majority class (class #2 -> 150)\n",
      "  warnings.warn(\n",
      "/home/matheus/miniconda3/envs/pytorch/lib/python3.10/site-packages/imblearn/utils/_validation.py:313: UserWarning: After over-sampling, the number of samples (1000) in class 17 will be larger than the number of samples in the majority class (class #2 -> 150)\n",
      "  warnings.warn(\n"
     ]
    },
    {
     "data": {
      "text/plain": [
       "<Axes: xlabel='Type 1'>"
      ]
     },
     "execution_count": 39,
     "metadata": {},
     "output_type": "execute_result"
    },
    {
     "data": {
      "image/png": "[encoded data removed]",
      "text/plain": [
       "<Figure size 640x480 with 1 Axes>"
      ]
     },
     "metadata": {},
     "output_type": "display_data"
    }
   ],
   "source": [
    "sampling_strategy = dict(zip(y.value_counts().index.tolist(), [1000 for _ in range(len(y.value_counts()))]))\n",
    "ros = RandomOverSampler(sampling_strategy=sampling_strategy)\n",
    "X_res, y_res = ros.fit_resample(X, y.astype(int))\n",
    "\n",
    "y_res.value_counts().plot.bar()"
   ]
  },
  {
   "cell_type": "code",
   "execution_count": 40,
   "metadata": {},
   "outputs": [
    {
     "data": {
      "text/html": [
       "<div>\n",
       "<style scoped>\n",
       "    .dataframe tbody tr th:only-of-type {\n",
       "        vertical-align: middle;\n",
       "    }\n",
       "\n",
       "    .dataframe tbody tr th {\n",
       "        vertical-align: top;\n",
       "    }\n",
       "\n",
       "    .dataframe thead th {\n",
       "        text-align: right;\n",
       "    }\n",
       "</style>\n",
       "<table border=\"1\" class=\"dataframe\">\n",
       "  <thead>\n",
       "    <tr style=\"text-align: right;\">\n",
       "      <th></th>\n",
       "      <th>HP</th>\n",
       "      <th>Attack</th>\n",
       "      <th>Defense</th>\n",
       "      <th>Sp. Atk</th>\n",
       "      <th>Sp. Def</th>\n",
       "      <th>Speed</th>\n",
       "      <th>Type 1</th>\n",
       "    </tr>\n",
       "  </thead>\n",
       "  <tbody>\n",
       "    <tr>\n",
       "      <th>14454</th>\n",
       "      <td>55</td>\n",
       "      <td>55</td>\n",
       "      <td>75</td>\n",
       "      <td>35</td>\n",
       "      <td>35</td>\n",
       "      <td>25</td>\n",
       "      <td>14</td>\n",
       "    </tr>\n",
       "    <tr>\n",
       "      <th>4131</th>\n",
       "      <td>107</td>\n",
       "      <td>139</td>\n",
       "      <td>139</td>\n",
       "      <td>53</td>\n",
       "      <td>53</td>\n",
       "      <td>79</td>\n",
       "      <td>3</td>\n",
       "    </tr>\n",
       "    <tr>\n",
       "      <th>7236</th>\n",
       "      <td>95</td>\n",
       "      <td>65</td>\n",
       "      <td>80</td>\n",
       "      <td>110</td>\n",
       "      <td>110</td>\n",
       "      <td>30</td>\n",
       "      <td>6</td>\n",
       "    </tr>\n",
       "    <tr>\n",
       "      <th>15531</th>\n",
       "      <td>85</td>\n",
       "      <td>110</td>\n",
       "      <td>76</td>\n",
       "      <td>65</td>\n",
       "      <td>82</td>\n",
       "      <td>56</td>\n",
       "      <td>15</td>\n",
       "    </tr>\n",
       "    <tr>\n",
       "      <th>16876</th>\n",
       "      <td>100</td>\n",
       "      <td>120</td>\n",
       "      <td>100</td>\n",
       "      <td>150</td>\n",
       "      <td>120</td>\n",
       "      <td>90</td>\n",
       "      <td>16</td>\n",
       "    </tr>\n",
       "    <tr>\n",
       "      <th>...</th>\n",
       "      <td>...</td>\n",
       "      <td>...</td>\n",
       "      <td>...</td>\n",
       "      <td>...</td>\n",
       "      <td>...</td>\n",
       "      <td>...</td>\n",
       "      <td>...</td>\n",
       "    </tr>\n",
       "    <tr>\n",
       "      <th>9636</th>\n",
       "      <td>70</td>\n",
       "      <td>65</td>\n",
       "      <td>60</td>\n",
       "      <td>125</td>\n",
       "      <td>90</td>\n",
       "      <td>65</td>\n",
       "      <td>9</td>\n",
       "    </tr>\n",
       "    <tr>\n",
       "      <th>12078</th>\n",
       "      <td>97</td>\n",
       "      <td>101</td>\n",
       "      <td>103</td>\n",
       "      <td>107</td>\n",
       "      <td>101</td>\n",
       "      <td>61</td>\n",
       "      <td>11</td>\n",
       "    </tr>\n",
       "    <tr>\n",
       "      <th>5465</th>\n",
       "      <td>100</td>\n",
       "      <td>123</td>\n",
       "      <td>75</td>\n",
       "      <td>57</td>\n",
       "      <td>75</td>\n",
       "      <td>80</td>\n",
       "      <td>4</td>\n",
       "    </tr>\n",
       "    <tr>\n",
       "      <th>12961</th>\n",
       "      <td>40</td>\n",
       "      <td>70</td>\n",
       "      <td>40</td>\n",
       "      <td>35</td>\n",
       "      <td>40</td>\n",
       "      <td>60</td>\n",
       "      <td>12</td>\n",
       "    </tr>\n",
       "    <tr>\n",
       "      <th>2312</th>\n",
       "      <td>75</td>\n",
       "      <td>125</td>\n",
       "      <td>80</td>\n",
       "      <td>60</td>\n",
       "      <td>100</td>\n",
       "      <td>85</td>\n",
       "      <td>1</td>\n",
       "    </tr>\n",
       "  </tbody>\n",
       "</table>\n",
       "<p>18000 rows × 7 columns</p>\n",
       "</div>"
      ],
      "text/plain": [
       "        HP  Attack  Defense  Sp. Atk  Sp. Def  Speed  Type 1\n",
       "14454   55      55       75       35       35     25      14\n",
       "4131   107     139      139       53       53     79       3\n",
       "7236    95      65       80      110      110     30       6\n",
       "15531   85     110       76       65       82     56      15\n",
       "16876  100     120      100      150      120     90      16\n",
       "...    ...     ...      ...      ...      ...    ...     ...\n",
       "9636    70      65       60      125       90     65       9\n",
       "12078   97     101      103      107      101     61      11\n",
       "5465   100     123       75       57       75     80       4\n",
       "12961   40      70       40       35       40     60      12\n",
       "2312    75     125       80       60      100     85       1\n",
       "\n",
       "[18000 rows x 7 columns]"
      ]
     },
     "metadata": {},
     "output_type": "display_data"
    }
   ],
   "source": [
    "df_numeric = X_res\n",
    "df_numeric['Type 1'] = y_res\n",
    "df_numeric = df_numeric.copy().sample(frac=1)\n",
    "\n",
    "y = np.array(df_numeric['Type 1'], dtype=float)\n",
    "df_numeric = df_numeric.drop('Type 1', axis=1)\n",
    "df_normalized = (df_numeric - df_numeric.min()) / (df_numeric.max() - df_numeric.min())\n",
    "matrix = df_normalized.to_numpy()\n",
    "X = torch.from_numpy(matrix).type(torch.float)\n",
    "y = torch.from_numpy(y).type(torch.LongTensor)\n",
    "\n",
    "# Separating in train/test\n",
    "X_train, X_test, y_train, y_test = train_test_split(X, y, test_size=0.2, random_state=42)"
   ]
  },
  {
   "cell_type": "code",
   "execution_count": 6,
   "metadata": {},
   "outputs": [
    {
     "name": "stdout",
     "output_type": "stream",
     "text": [
      "device availible:  cuda\n"
     ]
    }
   ],
   "source": [
    "# Checking if the GPU is availible to run the model\n",
    "device = 'cuda' if torch.cuda.is_available() else 'cpu'\n",
    "print('device availible: ', device)"
   ]
  },
  {
   "attachments": {},
   "cell_type": "markdown",
   "metadata": {},
   "source": [
    "# Instaciating the model"
   ]
  },
  {
   "cell_type": "code",
   "execution_count": 7,
   "metadata": {},
   "outputs": [
    {
     "data": {
      "text/plain": [
       "PokemonClassifier(\n",
       "  (sequence): Sequential(\n",
       "    (0): Linear(in_features=6, out_features=128, bias=True)\n",
       "    (1): ReLU()\n",
       "    (2): Linear(in_features=128, out_features=64, bias=True)\n",
       "    (3): ReLU()\n",
       "    (4): Linear(in_features=64, out_features=18, bias=True)\n",
       "  )\n",
       ")"
      ]
     },
     "metadata": {},
     "output_type": "display_data"
    }
   ],
   "source": [
    "# Model\n",
    "class PokemonClassifier(nn.Module):\n",
    "    def __init__(self) -> None:\n",
    "        super().__init__()\n",
    "        self.sequence = nn.Sequential(\n",
    "            nn.Linear(6, 128),\n",
    "            nn.ReLU(),\n",
    "            nn.Linear(128, 64),\n",
    "            nn.ReLU(),\n",
    "            nn.Linear(64, 18),\n",
    "        )\n",
    "    \n",
    "    def forward(self, X: torch.Tensor) -> torch.Tensor:\n",
    "        return self.sequence(X)\n",
    "\n",
    "# Instaciating the model\n",
    "model = PokemonClassifier()\n",
    "display(model)"
   ]
  },
  {
   "cell_type": "code",
   "execution_count": 8,
   "metadata": {},
   "outputs": [],
   "source": [
    "# Calculate the accuracy\n",
    "def accuracy_fn(y_true, y_pred):\n",
    "    correct = torch.eq(y_true, y_pred).sum().item()\n",
    "    acc = (correct / len(y_pred)) * 100\n",
    "    return acc\n",
    "\n",
    "# Loss function\n",
    "loss_fn = nn.CrossEntropyLoss()\n",
    "\n",
    "# Optimizer\n",
    "optimizer = torch.optim.Adam(params=model.parameters(), lr=0.01)\n",
    "\n",
    "# Write a training and evaluation loop for the model\n",
    "torch.manual_seed(42)\n",
    "torch.cuda.manual_seed(42)"
   ]
  },
  {
   "attachments": {},
   "cell_type": "markdown",
   "metadata": {},
   "source": [
    "# Training the model"
   ]
  },
  {
   "cell_type": "code",
   "execution_count": 9,
   "metadata": {},
   "outputs": [
    {
     "name": "stdout",
     "output_type": "stream",
     "text": [
      "Epoch: 0       | Loss: 2.89733   | Acc: 7.42%\n",
      "Epoch: 1000    | Loss: 1.08452   | Acc: 65.58%\n",
      "Epoch: 2000    | Loss: 0.80755   | Acc: 72.81%\n",
      "Epoch: 3000    | Loss: 0.63287   | Acc: 80.67%\n",
      "Epoch: 4000    | Loss: 0.53287   | Acc: 83.97%\n",
      "Epoch: 5000    | Loss: 0.46650   | Acc: 85.61%\n",
      "Epoch: 6000    | Loss: 0.38643   | Acc: 88.53%\n",
      "Epoch: 7000    | Loss: 1.94127   | Acc: 58.97%\n",
      "Epoch: 8000    | Loss: 0.30425   | Acc: 90.64%\n",
      "Epoch: 9000    | Loss: 0.26380   | Acc: 92.25%\n",
      "Epoch: 10000   | Loss: 0.24543   | Acc: 92.14%\n",
      "Epoch: 11000   | Loss: 0.21928   | Acc: 92.58%\n",
      "Epoch: 12000   | Loss: 0.18895   | Acc: 94.36%\n",
      "Epoch: 13000   | Loss: 0.17343   | Acc: 94.67%\n",
      "Epoch: 14000   | Loss: 0.16132   | Acc: 95.06%\n",
      "Epoch: 15000   | Loss: 0.14265   | Acc: 95.86%\n"
     ]
    }
   ],
   "source": [
    "epochs = 15000\n",
    "\n",
    "for epoch in range(epochs + 1):\n",
    "    ### Training\n",
    "    model.train()\n",
    "\n",
    "    # 1. Forward\n",
    "    pred = model(X_train).squeeze()\n",
    "\n",
    "    # 2. Loss\n",
    "    loss = loss_fn(pred, y_train)\n",
    "\n",
    "    # 3. Backward\n",
    "    optimizer.zero_grad()\n",
    "    loss.backward()\n",
    "    optimizer.step()\n",
    "\n",
    "\n",
    "    ### Testing\n",
    "    model.eval()\n",
    "    with torch.inference_mode():\n",
    "        test_preds = torch.softmax(model(X_test), dim=1).argmax(dim=1)\n",
    "        test_acc = accuracy_fn(y_test, test_preds)\n",
    "\n",
    "    if epoch % 1000 == 0 or epoch == epochs:\n",
    "        print('Epoch: {:<5d}   | Loss: {:<.5f}   | Acc: {:.2f}%'.format(epoch, loss, test_acc))"
   ]
  },
  {
   "attachments": {},
   "cell_type": "markdown",
   "metadata": {},
   "source": [
    "# Testing after train"
   ]
  },
  {
   "cell_type": "code",
   "execution_count": 34,
   "metadata": {},
   "outputs": [
    {
     "name": "stdout",
     "output_type": "stream",
     "text": [
      "Predictions:   [13, 4, 11, 11, 8, 13, 3, 5, 10, 9]\n",
      "Real:          [13, 4, 11, 11, 8, 13, 3, 5, 10, 9]\n"
     ]
    }
   ],
   "source": [
    "model.eval()\n",
    "with torch.inference_mode():\n",
    "    pred = torch.softmax(model(X_test), dim=1).argmax(dim=1)\n",
    "\n",
    "a = random.randint(0, len(X_test) - 10)\n",
    "b = a + 10\n",
    "\n",
    "print(f'Predictions:   {pred[a:b].tolist()}')\n",
    "print(f'Real:          {y_test[a:b].tolist()}')"
   ]
  },
  {
   "cell_type": "code",
   "execution_count": 35,
   "metadata": {},
   "outputs": [
    {
     "data": {
      "text/plain": [
       "tensor([[0.3780, 0.5514, 0.3918, 0.6359, 0.3000, 0.3795],\n",
       "        [0.1535, 0.2703, 0.1020, 0.1087, 0.0435, 0.4103],\n",
       "        [0.2913, 0.4324, 0.7959, 0.2446, 0.1957, 0.1282],\n",
       "        [0.3110, 0.3784, 0.5918, 0.3533, 0.5652, 0.2308],\n",
       "        [0.4252, 0.4108, 0.3837, 0.3043, 0.2783, 0.1385],\n",
       "        [0.4528, 0.2703, 0.3265, 0.5272, 0.3261, 0.1231],\n",
       "        [0.2520, 0.2270, 0.2857, 0.3424, 0.2826, 0.4103],\n",
       "        [0.2520, 0.6757, 0.2245, 0.3533, 0.1739, 0.3590],\n",
       "        [0.1969, 0.2541, 0.3469, 0.3913, 0.3913, 0.4872],\n",
       "        [0.2913, 0.4054, 0.4286, 0.2989, 0.3043, 0.2308]])"
      ]
     },
     "execution_count": 35,
     "metadata": {},
     "output_type": "execute_result"
    }
   ],
   "source": [
    "X_test[a:b]"
   ]
  }
 ],
 "metadata": {
  "kernelspec": {
   "display_name": "base",
   "language": "python",
   "name": "python3"
  },
  "language_info": {
   "codemirror_mode": {
    "name": "ipython",
    "version": 3
   },
   "file_extension": ".py",
   "mimetype": "text/x-python",
   "name": "python",
   "nbconvert_exporter": "python",
   "pygments_lexer": "ipython3",
   "version": "3.10.11"
  },
  "orig_nbformat": 4
 },
 "nbformat": 4,
 "nbformat_minor": 2
}
