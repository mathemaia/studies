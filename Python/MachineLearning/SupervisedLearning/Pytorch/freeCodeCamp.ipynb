{
 "cells": [
  {
   "attachments": {},
   "cell_type": "markdown",
   "metadata": {},
   "source": [
    "# Linear Regression"
   ]
  },
  {
   "attachments": {},
   "cell_type": "markdown",
   "metadata": {},
   "source": [
    "### First version creating a linear regression from screatch"
   ]
  },
  {
   "cell_type": "code",
   "execution_count": 122,
   "metadata": {},
   "outputs": [
    {
     "data": {
      "text/plain": [
       "<matplotlib.collections.PathCollection at 0x1b2c421c250>"
      ]
     },
     "execution_count": 122,
     "metadata": {},
     "output_type": "execute_result"
    },
    {
     "data": {
      "image/png": "[encoded data removed]",
      "text/plain": [
       "<Figure size 640x480 with 1 Axes>"
      ]
     },
     "metadata": {},
     "output_type": "display_data"
    }
   ],
   "source": [
    "import torch\n",
    "from torch import nn\n",
    "from matplotlib import pyplot as plt\n",
    "import numpy as np\n",
    "from sklearn.linear_model import LinearRegression\n",
    "from sklearn.model_selection import train_test_split\n",
    "\n",
    "# Create the artificial data\n",
    "X = torch.linspace(0, 100, 100)\n",
    "noise = torch.tensor(np.random.normal(0, 25, 100), dtype=torch.float32)\n",
    "y = 1.5 * X + 1.0 + noise\n",
    "\n",
    "# Normalize the input data\n",
    "X = (X - X.min()) /(X.max() - X.min())\n",
    "y = (y - y.min()) /(y.max() - y.min())\n",
    "\n",
    "# Separete the dataset on train and test\n",
    "X_train, X_test, y_train, y_test = train_test_split(X, y, test_size=0.2, random_state=42)\n",
    "\n",
    "# Plot the data's graphic\n",
    "plt.scatter(X, y)"
   ]
  },
  {
   "attachments": {},
   "cell_type": "markdown",
   "metadata": {},
   "source": [
    "### Building a model with PyTorch"
   ]
  },
  {
   "cell_type": "code",
   "execution_count": 123,
   "metadata": {},
   "outputs": [],
   "source": [
    "# Model\n",
    "class LR(nn.Module):\n",
    "    def __init__(self):\n",
    "        super().__init__()\n",
    "        self.weights = nn.Parameter(torch.randn(1, dtype=torch.float), requires_grad=True)\n",
    "        self.bias = nn.Parameter(torch.randn(1, dtype=torch.float), requires_grad=True)\n",
    "    \n",
    "    # prediction\n",
    "    def forward(self, x: torch.Tensor) -> torch.Tensor:\n",
    "        return self.weights * x + self.bias\n",
    "\n",
    "# Instanciating the model\n",
    "model_0 = LR()"
   ]
  },
  {
   "attachments": {},
   "cell_type": "markdown",
   "metadata": {},
   "source": [
    "### Training and testing"
   ]
  },
  {
   "cell_type": "code",
   "execution_count": 124,
   "metadata": {},
   "outputs": [],
   "source": [
    "# setup a loss function\n",
    "loss_fn = nn.MSELoss()\n",
    "\n",
    "# setup an optimizer (stochastic gradient descent)\n",
    "optimizer = torch.optim.SGD(params=model_0.parameters(), lr=0.1)\n",
    "\n",
    "# training loop\n",
    "epochs = 1500\n",
    "for epoch in range(epochs):\n",
    "    # set the model to training mode (all parameters will be set to requires gradients)\n",
    "    model_0.train() \n",
    "\n",
    "    # 1. Make the prediction\n",
    "    pred = model_0(X_train)\n",
    "\n",
    "    # 2. Calculate the loss\n",
    "    loss = loss_fn(pred, y_train)\n",
    "\n",
    "    # 3. Turn the gradient to zero\n",
    "    optimizer.zero_grad()\n",
    "\n",
    "    # 4. Calculate the gradient\n",
    "    loss.backward()\n",
    "\n",
    "    # 5. Update the parameters according to the gradient\n",
    "    optimizer.step()"
   ]
  },
  {
   "attachments": {},
   "cell_type": "markdown",
   "metadata": {},
   "source": [
    "### Comparing the results with ScikitLearn"
   ]
  },
  {
   "cell_type": "code",
   "execution_count": 125,
   "metadata": {},
   "outputs": [
    {
     "name": "stdout",
     "output_type": "stream",
     "text": [
      "ScikitLearn\n",
      "w: 0.6350376009941101,   b: 0.12010732293128967\n",
      "\n",
      "Pytorch\n",
      "w: 0.6350356340408325,   b: 0.12010832875967026\n"
     ]
    }
   ],
   "source": [
    "# ScikitLearn model\n",
    "model_1 = LinearRegression()\n",
    "model_1.fit(X_train.reshape(-1, 1), y_train.reshape(-1, 1))\n",
    "print(f'ScikitLearn\\nw: {float(model_1.coef_[0])},   b: {float(model_1.intercept_)}')\n",
    "\n",
    "# Pytorch\n",
    "print(f'\\nPytorch\\nw: {float(list(model_0.parameters())[0])},   b: {float(list(model_0.parameters())[1])}')"
   ]
  }
 ],
 "metadata": {
  "kernelspec": {
   "display_name": "base",
   "language": "python",
   "name": "python3"
  },
  "language_info": {
   "codemirror_mode": {
    "name": "ipython",
    "version": 3
   },
   "file_extension": ".py",
   "mimetype": "text/x-python",
   "name": "python",
   "nbconvert_exporter": "python",
   "pygments_lexer": "ipython3",
   "version": "3.11.3"
  },
  "orig_nbformat": 4
 },
 "nbformat": 4,
 "nbformat_minor": 2
}
