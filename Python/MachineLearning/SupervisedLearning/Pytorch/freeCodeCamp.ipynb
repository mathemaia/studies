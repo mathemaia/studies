{
 "cells": [
  {
   "attachments": {},
   "cell_type": "markdown",
   "metadata": {},
   "source": [
    "# Linear Regression"
   ]
  },
  {
   "attachments": {},
   "cell_type": "markdown",
   "metadata": {},
   "source": [
    "### First version creating a linear regression from screatch"
   ]
  },
  {
   "cell_type": "code",
   "execution_count": 15,
   "metadata": {},
   "outputs": [],
   "source": [
    "import torch\n",
    "from torch import nn\n",
    "import matplotlib.pyplot as pyplot\n",
    "\n",
    "# Create the parameters\n",
    "weight = 0.7\n",
    "bias = 0.3\n",
    "\n",
    "# Create the dataset\n",
    "start = 0\n",
    "end = 1\n",
    "step = 0.02\n",
    "X = torch.arange(start, end, step).unsqueeze(dim=1)\n",
    "y = X * weight + bias\n",
    "\n",
    "# Do the dataset split\n",
    "train_split = int(0.8 * len(X))\n",
    "X_train, y_train = X[:train_split], y[:train_split]\n",
    "X_test, y_test = X[train_split:], y[train_split:]\n"
   ]
  },
  {
   "attachments": {},
   "cell_type": "markdown",
   "metadata": {},
   "source": [
    "### Building a model with PyTorch"
   ]
  },
  {
   "cell_type": "code",
   "execution_count": 28,
   "metadata": {},
   "outputs": [
    {
     "name": "stdout",
     "output_type": "stream",
     "text": [
      "{'weights': tensor([-1.8734]), 'bias': tensor([0.5801])} \n",
      "\n",
      "tensor([[-0.9186],\n",
      "        [-0.9561],\n",
      "        [-0.9935],\n",
      "        [-1.0310],\n",
      "        [-1.0685],\n",
      "        [-1.1059],\n",
      "        [-1.1434],\n",
      "        [-1.1809],\n",
      "        [-1.2183],\n",
      "        [-1.2558]])\n"
     ]
    }
   ],
   "source": [
    "# Model\n",
    "class LinearRegression(nn.Module): # all model in pytorch inherhits from nn.Module\n",
    "    def __init__(self):\n",
    "        super().__init__()\n",
    "        self.weights = nn.Parameter(torch.randn(1, requires_grad=True, dtype=torch.float))\n",
    "        self.bias = nn.Parameter(torch.randn(1, requires_grad=True, dtype=torch.float))\n",
    "    \n",
    "    # all pytorch model need to overwrite this method\n",
    "    def forward(self, x: torch.Tensor):\n",
    "        # prediction\n",
    "        return self.weights * x + self.bias\n",
    "\n",
    "\n",
    "# Stanciating the model\n",
    "model_0 = LinearRegression()\n",
    "print(dict(model_0.state_dict()), '\\n')\n",
    "\n",
    "\n",
    "# Making predigtions\n",
    "with torch.inference_mode():\n",
    "    y_preds = model_0(X_test)\n",
    "print(y_preds)"
   ]
  },
  {
   "attachments": {},
   "cell_type": "markdown",
   "metadata": {},
   "source": [
    "### Training and testing"
   ]
  },
  {
   "cell_type": "code",
   "execution_count": 30,
   "metadata": {},
   "outputs": [
    {
     "data": {
      "text/plain": [
       "tensor([0.])"
      ]
     },
     "execution_count": 30,
     "metadata": {},
     "output_type": "execute_result"
    }
   ],
   "source": [
    "# setup a loss function\n",
    "loss = nn.MSELoss()\n",
    "\n",
    "# setup an optimizer (stochastic gradient descent)\n",
    "optimizer = torch.optim.SGD(params=model_0.parameters(), lr=0.1)\n",
    "\n",
    "\n",
    "# training loop\n",
    "epochs = 1 \n",
    "for epoch in range(epochs):\n",
    "    # set the model to training mode\n",
    "    model_0.train()"
   ]
  },
  {
   "cell_type": "code",
   "execution_count": null,
   "metadata": {},
   "outputs": [],
   "source": []
  }
 ],
 "metadata": {
  "kernelspec": {
   "display_name": "base",
   "language": "python",
   "name": "python3"
  },
  "language_info": {
   "codemirror_mode": {
    "name": "ipython",
    "version": 3
   },
   "file_extension": ".py",
   "mimetype": "text/x-python",
   "name": "python",
   "nbconvert_exporter": "python",
   "pygments_lexer": "ipython3",
   "version": "3.9.12"
  },
  "orig_nbformat": 4
 },
 "nbformat": 4,
 "nbformat_minor": 2
}
