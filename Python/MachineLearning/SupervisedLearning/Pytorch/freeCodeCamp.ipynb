{
 "cells": [
  {
   "attachments": {},
   "cell_type": "markdown",
   "metadata": {},
   "source": [
    "# Linear Regression"
   ]
  },
  {
   "attachments": {},
   "cell_type": "markdown",
   "metadata": {},
   "source": [
    "### First version creating a linear regression from screatch"
   ]
  },
  {
   "cell_type": "code",
   "execution_count": 1,
   "metadata": {},
   "outputs": [
    {
     "name": "stderr",
     "output_type": "stream",
     "text": [
      "/home/matheus/miniconda3/lib/python3.9/site-packages/tqdm/auto.py:22: TqdmWarning: IProgress not found. Please update jupyter and ipywidgets. See https://ipywidgets.readthedocs.io/en/stable/user_install.html\n",
      "  from .autonotebook import tqdm as notebook_tqdm\n"
     ]
    }
   ],
   "source": [
    "import torch\n",
    "from torch import nn\n",
    "import matplotlib.pyplot as pyplot\n",
    "import numpy as np\n",
    "\n",
    "# Create the parameters\n",
    "weight = 0.7\n",
    "bias = 0.3\n",
    "\n",
    "# Create the dataset\n",
    "start = 0\n",
    "end = 1\n",
    "step = 0.02\n",
    "X = torch.arange(start, end, step).unsqueeze(dim=1)\n",
    "y = X * weight + bias\n",
    "\n",
    "# Do the dataset split\n",
    "train_split = int(0.8 * len(X))\n",
    "X_train, y_train = X[:train_split], y[:train_split]\n",
    "X_test, y_test = X[train_split:], y[train_split:]\n"
   ]
  },
  {
   "attachments": {},
   "cell_type": "markdown",
   "metadata": {},
   "source": [
    "### Building a model with PyTorch"
   ]
  },
  {
   "cell_type": "code",
   "execution_count": 2,
   "metadata": {},
   "outputs": [
    {
     "name": "stdout",
     "output_type": "stream",
     "text": [
      "{'weights': tensor([-1.1653]), 'bias': tensor([0.0192])} \n",
      "\n",
      "tensor([[-0.9131],\n",
      "        [-0.9364],\n",
      "        [-0.9597],\n",
      "        [-0.9830],\n",
      "        [-1.0063],\n",
      "        [-1.0296],\n",
      "        [-1.0529],\n",
      "        [-1.0762],\n",
      "        [-1.0996],\n",
      "        [-1.1229]])\n"
     ]
    }
   ],
   "source": [
    "# Model\n",
    "class LinearRegression(nn.Module): # all model in pytorch inherhits from nn.Module\n",
    "    def __init__(self):\n",
    "        super().__init__()\n",
    "        self.weights = nn.Parameter(torch.randn(1, requires_grad=True, dtype=torch.float))\n",
    "        self.bias = nn.Parameter(torch.randn(1, requires_grad=True, dtype=torch.float))\n",
    "    \n",
    "    # all pytorch model need to overwrite this method\n",
    "    def forward(self, x: torch.Tensor):\n",
    "        # prediction\n",
    "        return self.weights * x + self.bias\n",
    "\n",
    "\n",
    "# Stanciating the model\n",
    "model_0 = LinearRegression()\n",
    "print(dict(model_0.state_dict()), '\\n')\n",
    "\n",
    "\n",
    "# Making predigtions\n",
    "with torch.inference_mode():\n",
    "    y_preds = model_0(X_test)\n",
    "print(y_preds)"
   ]
  },
  {
   "attachments": {},
   "cell_type": "markdown",
   "metadata": {},
   "source": [
    "### Training and testing"
   ]
  },
  {
   "cell_type": "code",
   "execution_count": 10,
   "metadata": {},
   "outputs": [],
   "source": [
    "# setup a loss function\n",
    "loss_fn = nn.MSELoss()\n",
    "\n",
    "# setup an optimizer (stochastic gradient descent)\n",
    "optimizer = torch.optim.SGD(params=model_0.parameters(), lr=0.1)\n",
    "\n",
    "\n",
    "# training loop\n",
    "epochs = 1 \n",
    "for epoch in range(epochs):\n",
    "    # set the model to training mode (all parameters will be set to requires gradients)\n",
    "    model_0.train() \n",
    "\n",
    "    # 1. Make the prediction\n",
    "    y_pred = model_0(X_train)\n",
    "\n",
    "    # 2. Calculate the loss\n",
    "    loss = loss_fn(y_pred, y_train)\n",
    "\n",
    "    # 3. Turn the gradient to zero\n",
    "    optimizer.zero_grad()\n",
    "\n",
    "    # 4. Calculate the gradient\n",
    "    loss.backward()\n",
    "\n",
    "    # 5. Update the parameters according to the gradient\n",
    "    optimizer.step()\n",
    "\n",
    "\n"
   ]
  },
  {
   "cell_type": "code",
   "execution_count": 9,
   "metadata": {},
   "outputs": [
    {
     "data": {
      "text/plain": [
       "tensor([[ 0.0192],\n",
       "        [-0.0041],\n",
       "        [-0.0274],\n",
       "        [-0.0507],\n",
       "        [-0.0740],\n",
       "        [-0.0974],\n",
       "        [-0.1207],\n",
       "        [-0.1440],\n",
       "        [-0.1673],\n",
       "        [-0.1906],\n",
       "        [-0.2139],\n",
       "        [-0.2372],\n",
       "        [-0.2605],\n",
       "        [-0.2838],\n",
       "        [-0.3071],\n",
       "        [-0.3304],\n",
       "        [-0.3537],\n",
       "        [-0.3770],\n",
       "        [-0.4003],\n",
       "        [-0.4237],\n",
       "        [-0.4470],\n",
       "        [-0.4703],\n",
       "        [-0.4936],\n",
       "        [-0.5169],\n",
       "        [-0.5402],\n",
       "        [-0.5635],\n",
       "        [-0.5868],\n",
       "        [-0.6101],\n",
       "        [-0.6334],\n",
       "        [-0.6567],\n",
       "        [-0.6800],\n",
       "        [-0.7033],\n",
       "        [-0.7266],\n",
       "        [-0.7499],\n",
       "        [-0.7733],\n",
       "        [-0.7966],\n",
       "        [-0.8199],\n",
       "        [-0.8432],\n",
       "        [-0.8665],\n",
       "        [-0.8898]], grad_fn=<AddBackward0>)"
      ]
     },
     "execution_count": 9,
     "metadata": {},
     "output_type": "execute_result"
    }
   ],
   "source": [
    "model_0"
   ]
  },
  {
   "cell_type": "code",
   "execution_count": null,
   "metadata": {},
   "outputs": [],
   "source": []
  }
 ],
 "metadata": {
  "kernelspec": {
   "display_name": "base",
   "language": "python",
   "name": "python3"
  },
  "language_info": {
   "codemirror_mode": {
    "name": "ipython",
    "version": 3
   },
   "file_extension": ".py",
   "mimetype": "text/x-python",
   "name": "python",
   "nbconvert_exporter": "python",
   "pygments_lexer": "ipython3",
   "version": "3.9.12"
  },
  "orig_nbformat": 4
 },
 "nbformat": 4,
 "nbformat_minor": 2
}
