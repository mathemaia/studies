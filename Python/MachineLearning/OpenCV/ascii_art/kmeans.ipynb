{
 "cells": [
  {
   "cell_type": "code",
   "execution_count": 3,
   "metadata": {},
   "outputs": [
    {
     "name": "stdout",
     "output_type": "stream",
     "text": [
      "Foto tirada com sucesso!\n",
      "Foto tirada com sucesso!\n",
      "Foto tirada com sucesso!\n"
     ]
    }
   ],
   "source": [
    "import cv2\n",
    "\n",
    "def take_photo():\n",
    "    for i in range(0, 3):\n",
    "        # Inicializa a câmera\n",
    "        cap = cv2.VideoCapture(0)\n",
    "\n",
    "        if not cap.isOpened():\n",
    "            print(\"Erro ao acessar a câmera.\")\n",
    "            return\n",
    "\n",
    "        # Captura um frame da câmera\n",
    "        ret, frame = cap.read()\n",
    "\n",
    "        # Verifica se o frame foi capturado corretamente\n",
    "        if not ret:\n",
    "            print(\"Erro ao capturar o frame.\")\n",
    "            cap.release()\n",
    "            return\n",
    "\n",
    "        # Salva a imagem capturada em um arquivo\n",
    "        cv2.imwrite(f\"foto_webcam{i}.jpg\", frame)\n",
    "\n",
    "        # Libera a câmera\n",
    "        cap.release()\n",
    "        cv2.destroyAllWindows()\n",
    "\n",
    "        print(\"Foto tirada com sucesso!\")\n",
    "\n",
    "\n",
    "take_photo()"
   ]
  },
  {
   "cell_type": "code",
   "execution_count": 2,
   "metadata": {},
   "outputs": [],
   "source": [
    "import cv2\n",
    "\n",
    "cap = cv2.VideoCapture(0)\n",
    "\n",
    "i = 0\n",
    "while True:\n",
    "\tret, frame = cap.read()\n",
    "\n",
    "\tcv2.imshow('frame', frame)\n",
    "\tcv2.imwrite(f'./frames/frame{i}.jpg', frame)\n",
    "\t\n",
    "\tif cv2.waitKey(1) & 0xFF == ord('q'):\n",
    "\t\tbreak\n",
    "\n",
    "\ti += 1\n",
    "\n",
    "cap.release()\n",
    "cv2.destroyAllWindows()"
   ]
  }
 ],
 "metadata": {
  "kernelspec": {
   "display_name": "savefarm",
   "language": "python",
   "name": "python3"
  },
  "language_info": {
   "codemirror_mode": {
    "name": "ipython",
    "version": 3
   },
   "file_extension": ".py",
   "mimetype": "text/x-python",
   "name": "python",
   "nbconvert_exporter": "python",
   "pygments_lexer": "ipython3",
   "version": "3.11.4"
  },
  "orig_nbformat": 4
 },
 "nbformat": 4,
 "nbformat_minor": 2
}
