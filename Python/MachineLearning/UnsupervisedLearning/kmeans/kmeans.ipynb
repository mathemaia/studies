{
 "cells": [
  {
   "cell_type": "code",
   "execution_count": 1,
   "metadata": {},
   "outputs": [],
   "source": [
    "from matplotlib.image import imread\n",
    "import matplotlib.pyplot as plt\n",
    "import os\n",
    "from sklearn.cluster import KMeans\n",
    "import cv2\n",
    "import numpy as np\n",
    "import sys"
   ]
  },
  {
   "cell_type": "code",
   "execution_count": 8,
   "metadata": {},
   "outputs": [
    {
     "name": "stderr",
     "output_type": "stream",
     "text": [
      "/home/matheus/miniconda3/envs/machinelearning/lib/python3.11/site-packages/sklearn/cluster/_kmeans.py:870: FutureWarning: The default value of `n_init` will change from 10 to 'auto' in 1.4. Set the value of `n_init` explicitly to suppress the warning\n",
      "  warnings.warn(\n",
      "/home/matheus/miniconda3/envs/machinelearning/lib/python3.11/site-packages/sklearn/cluster/_kmeans.py:870: FutureWarning: The default value of `n_init` will change from 10 to 'auto' in 1.4. Set the value of `n_init` explicitly to suppress the warning\n",
      "  warnings.warn(\n",
      "/home/matheus/miniconda3/envs/machinelearning/lib/python3.11/site-packages/sklearn/cluster/_kmeans.py:870: FutureWarning: The default value of `n_init` will change from 10 to 'auto' in 1.4. Set the value of `n_init` explicitly to suppress the warning\n",
      "  warnings.warn(\n",
      "/home/matheus/miniconda3/envs/machinelearning/lib/python3.11/site-packages/sklearn/cluster/_kmeans.py:870: FutureWarning: The default value of `n_init` will change from 10 to 'auto' in 1.4. Set the value of `n_init` explicitly to suppress the warning\n",
      "  warnings.warn(\n",
      "/home/matheus/miniconda3/envs/machinelearning/lib/python3.11/site-packages/sklearn/cluster/_kmeans.py:870: FutureWarning: The default value of `n_init` will change from 10 to 'auto' in 1.4. Set the value of `n_init` explicitly to suppress the warning\n",
      "  warnings.warn(\n",
      "/home/matheus/miniconda3/envs/machinelearning/lib/python3.11/site-packages/sklearn/cluster/_kmeans.py:870: FutureWarning: The default value of `n_init` will change from 10 to 'auto' in 1.4. Set the value of `n_init` explicitly to suppress the warning\n",
      "  warnings.warn(\n",
      "/home/matheus/miniconda3/envs/machinelearning/lib/python3.11/site-packages/sklearn/cluster/_kmeans.py:870: FutureWarning: The default value of `n_init` will change from 10 to 'auto' in 1.4. Set the value of `n_init` explicitly to suppress the warning\n",
      "  warnings.warn(\n",
      "/home/matheus/miniconda3/envs/machinelearning/lib/python3.11/site-packages/sklearn/cluster/_kmeans.py:870: FutureWarning: The default value of `n_init` will change from 10 to 'auto' in 1.4. Set the value of `n_init` explicitly to suppress the warning\n",
      "  warnings.warn(\n",
      "/home/matheus/miniconda3/envs/machinelearning/lib/python3.11/site-packages/sklearn/cluster/_kmeans.py:870: FutureWarning: The default value of `n_init` will change from 10 to 'auto' in 1.4. Set the value of `n_init` explicitly to suppress the warning\n",
      "  warnings.warn(\n"
     ]
    }
   ],
   "source": [
    "image = cv2.imread('data/rain.jpg')\n",
    "\n",
    "\n",
    "\n",
    "fator_escala = 0.2\n",
    "\n",
    "# Obter as dimensões da imagem\n",
    "altura, largura = image.shape[:2]\n",
    "\n",
    "# Redimensionar a imagem para um taman ho menor\n",
    "nova_largura = int(largura * fator_escala)\n",
    "nova_altura = int(altura * fator_escala)\n",
    "imagem_pixelada = cv2.resize(image, (nova_largura, nova_altura), interpolation=cv2.INTER_NEAREST)\n",
    "\n",
    "# Restaurar a imagem para o tamanho original\n",
    "imagem_restaurada = cv2.resize(imagem_pixelada, (largura * 2, altura * 2), interpolation=cv2.INTER_NEAREST)\n",
    "imagem_restaurada = cv2.cvtColor(imagem_restaurada, cv2.COLOR_BGR2GRAY)\n",
    "\n",
    "X = imagem_restaurada.reshape(-1, 1)\n",
    "images = []\n",
    "\n",
    "for i in range(2, 11):\n",
    "    kmeans = KMeans(n_clusters=i).fit(X)\n",
    "\n",
    "    segmented_img = kmeans.cluster_centers_[kmeans.labels_]\n",
    "    segmented_img = segmented_img.reshape(imagem_restaurada.shape)\n",
    "    cv2.imwrite(f'./data/clusterized/rain{i}.png', segmented_img)\n",
    "    images.append(segmented_img)"
   ]
  },
  {
   "cell_type": "code",
   "execution_count": 33,
   "metadata": {},
   "outputs": [
    {
     "data": {
      "text/plain": [
       "(1105, 564)"
      ]
     },
     "execution_count": 33,
     "metadata": {},
     "output_type": "execute_result"
    }
   ],
   "source": [
    "image.shape"
   ]
  },
  {
   "cell_type": "code",
   "execution_count": 42,
   "metadata": {},
   "outputs": [
    {
     "data": {
      "text/plain": [
       "True"
      ]
     },
     "execution_count": 42,
     "metadata": {},
     "output_type": "execute_result"
    }
   ],
   "source": [
    "\n",
    "\n",
    "k = 0\n",
    "for i in range(0, 3):\n",
    "    for j in range(0, 3):\n",
    "        \n",
    "\n",
    "        k += 1\n",
    "image =  cv2.imread('./data/rain.jpg')\n",
    "\n",
    "\n",
    "cv2.imwrite('grafico_sem_eixos.png', imagem_restaurada)"
   ]
  },
  {
   "cell_type": "code",
   "execution_count": 45,
   "metadata": {},
   "outputs": [
    {
     "data": {
      "text/plain": [
       "True"
      ]
     },
     "execution_count": 45,
     "metadata": {},
     "output_type": "execute_result"
    }
   ],
   "source": [
    "\n",
    "image =  cv2.imread('./data/rain.jpg')\n",
    "imagem_normalizada = cv2.normalize(image, None, 0, 255, cv2.NORM_MINMAX)\n",
    "cv2.imwrite('grafico_sem_eixos.png', imagem_normalizada)"
   ]
  },
  {
   "cell_type": "code",
   "execution_count": 8,
   "metadata": {},
   "outputs": [
    {
     "name": "stderr",
     "output_type": "stream",
     "text": [
      "c:\\Users\\mathe\\miniconda3\\envs\\machinelearning\\Lib\\site-packages\\sklearn\\cluster\\_kmeans.py:870: FutureWarning: The default value of `n_init` will change from 10 to 'auto' in 1.4. Set the value of `n_init` explicitly to suppress the warning\n",
      "  warnings.warn(\n"
     ]
    }
   ],
   "source": [
    "from sklearn.cluster import KMeans\n",
    "from sklearn.datasets import load_digits\n",
    "\n",
    "mnist = load_digits()\n",
    "X = mnist.data\n",
    "y = mnist.target\n",
    "\n",
    "kmeans = KMeans(n_clusters=10)  # Definir o número de clusters desejado\n",
    "kmeans.fit(X)\n",
    "labels = kmeans.labels_"
   ]
  },
  {
   "cell_type": "code",
   "execution_count": 9,
   "metadata": {},
   "outputs": [
    {
     "data": {
      "image/png": "[encoded data removed]",
      "text/plain": [
       "<Figure size 1000x1000 with 100 Axes>"
      ]
     },
     "metadata": {},
     "output_type": "display_data"
    }
   ],
   "source": [
    "import matplotlib.pyplot as plt\n",
    "import numpy as np\n",
    "\n",
    "# Definir o número de clusters desejado\n",
    "n_clusters = 10\n",
    "\n",
    "# Criar uma matriz de subplots para exibir as imagens dos clusters\n",
    "fig, axs = plt.subplots(n_clusters, 10, figsize=(10, n_clusters))\n",
    "\n",
    "# Iterar sobre os clusters\n",
    "for cluster_label in range(n_clusters):\n",
    "    # Obter os índices das amostras pertencentes ao cluster atual\n",
    "    cluster_indices = np.where(labels == cluster_label)[0]\n",
    "    \n",
    "    # Iterar sobre as primeiras 10 amostras do cluster atual\n",
    "    for i, sample_index in enumerate(cluster_indices[:10]):\n",
    "        # Obter a imagem correspondente ao índice da amostra\n",
    "        image = X[sample_index].reshape(8, 8)\n",
    "        \n",
    "        # Plotar a imagem no subplot correspondente\n",
    "        axs[cluster_label, i].imshow(image, cmap='gray')\n",
    "        axs[cluster_label, i].axis('off')\n",
    "\n",
    "# Ajustar o espaçamento entre os subplots\n",
    "plt.tight_layout()\n",
    "\n",
    "# Exibir o plot\n",
    "plt.show()\n"
   ]
  }
 ],
 "metadata": {
  "kernelspec": {
   "display_name": "savefarm",
   "language": "python",
   "name": "python3"
  },
  "language_info": {
   "codemirror_mode": {
    "name": "ipython",
    "version": 3
   },
   "file_extension": ".py",
   "mimetype": "text/x-python",
   "name": "python",
   "nbconvert_exporter": "python",
   "pygments_lexer": "ipython3",
   "version": "3.11.4"
  },
  "orig_nbformat": 4
 },
 "nbformat": 4,
 "nbformat_minor": 2
}
