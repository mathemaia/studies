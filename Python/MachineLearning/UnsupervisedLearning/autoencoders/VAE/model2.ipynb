{
 "cells": [
  {
   "cell_type": "code",
   "execution_count": 103,
   "metadata": {},
   "outputs": [],
   "source": [
    "import tensorflow as tf\n",
    "from tensorflow.keras import layers, Model\n",
    "import cv2\n",
    "import numpy as np\n",
    "import matplotlib.pyplot as plt\n",
    "from keras.layers import Add\n",
    "import os"
   ]
  },
  {
   "cell_type": "code",
   "execution_count": 54,
   "metadata": {},
   "outputs": [],
   "source": [
    "def load_image(path):\n",
    "    image = tf.io.read_file(path)\n",
    "    image = tf.image.decode_image(image)\n",
    "    image = tf.image.resize(image, (94, 94))\n",
    "    image = tf.cast(image, tf.float32)\n",
    "    image = image / 255.0\n",
    "    image = tf.expand_dims(image, axis=0)\n",
    "\n",
    "    return image"
   ]
  },
  {
   "cell_type": "code",
   "execution_count": 42,
   "metadata": {},
   "outputs": [],
   "source": [
    "input_shape = (94, 94, 3)\n",
    "latent_dim = 32\n",
    "\n",
    "\n",
    "class Encoder(Model):\n",
    "    def __init__(self, latent_dim):\n",
    "        super(Encoder, self).__init__()\n",
    "        self.latent_dim = latent_dim\n",
    "        self.encoder = tf.keras.Sequential([\n",
    "            layers.InputLayer(input_shape=input_shape),\n",
    "            layers.Conv2D(32, (3, 3), activation='relu', padding='same'),\n",
    "            layers.MaxPooling2D((3, 3), padding='same'),\n",
    "            layers.Conv2D(64, (3, 3), activation='relu', padding='same'),\n",
    "            layers.MaxPooling2D((3, 3), padding='same'),\n",
    "            layers.Flatten()\n",
    "        ])\n",
    "        self.mean = layers.Dense(latent_dim)\n",
    "        self.log_var = layers.Dense(latent_dim)\n",
    "    \n",
    "    def call(self, X):\n",
    "        X = self.encoder(X)\n",
    "        return self.mean(X), self.log_var(X)\n",
    "\n",
    "\n",
    "class Decoder(Model):\n",
    "    def __init__(self, latent_dim):\n",
    "        super(Decoder, self).__init__()\n",
    "        self.decoder = tf.keras.Sequential([\n",
    "            layers.InputLayer(input_shape=(1, latent_dim)),\n",
    "            layers.Dense(7 * 7 * 64, activation='relu'),\n",
    "            layers.Reshape((7, 7, 64)),\n",
    "            layers.Conv2DTranspose(64, (3, 3), activation='relu', padding='same'),\n",
    "            layers.UpSampling2D((2,2)),\n",
    "            layers.Conv2DTranspose(32, (3, 3), activation='relu', padding='same'),\n",
    "            layers.UpSampling2D((2,2)),\n",
    "            layers.Conv2DTranspose(1, (3, 3), activation='sigmoid', padding='same')\n",
    "        ])\n",
    "    \n",
    "    def call(self, X):\n",
    "        return self.decoder(X)\n",
    "\n",
    "\n",
    "class VAE(Model):\n",
    "    def __init__(self, latent_dim):\n",
    "        super(VAE, self).__init__()\n",
    "        self.encoder = Encoder(latent_dim)\n",
    "        self.decoder = Decoder(latent_dim)\n",
    "\n",
    "    def call(self, X):\n",
    "        mu, sigma = self.encoder(X)\n",
    "        epsilon = tf.random.normal(tf.shape(mu))\n",
    "        z = tf.expand_dims(mu + epsilon * sigma, axis=0)\n",
    "        X_reconstructed = self.decoder(z)\n",
    "\n",
    "        return X_reconstructed, mu, sigma\n",
    "        "
   ]
  },
  {
   "cell_type": "code",
   "execution_count": 125,
   "metadata": {},
   "outputs": [
    {
     "data": {
      "image/png": "[encoded data removed]",
      "text/plain": [
       "<Figure size 640x480 with 1 Axes>"
      ]
     },
     "metadata": {},
     "output_type": "display_data"
    }
   ],
   "source": [
    "input_shape = (94, 94, 3)\n",
    "latent_dim = 32\n",
    "\n",
    "\n",
    "class VAE(Model):\n",
    "    def __init__(self, latent_dim):\n",
    "        super(VAE, self).__init__()\n",
    "        self.latent_dim = latent_dim\n",
    "        self.encoder = tf.keras.Sequential([\n",
    "            layers.InputLayer(input_shape=input_shape),\n",
    "            layers.Conv2D(32, (3, 3), activation='relu', padding='same'),\n",
    "            layers.Conv2D(64, (3, 3), activation='relu', padding='same'),\n",
    "            layers.Flatten(),\n",
    "            layers.Dense(latent_dim)\n",
    "        ])\n",
    "        self.decoder = tf.keras.Sequential([\n",
    "            layers.InputLayer(input_shape=(latent_dim,)),\n",
    "            layers.Dense(7 * 7 * 32, activation='relu'),\n",
    "            layers.Reshape((7, 7, 32)),\n",
    "            layers.Conv2DTranspose(64, (3, 3), activation='relu', padding='same'),\n",
    "            layers.UpSampling2D((2,2)),\n",
    "            layers.Conv2DTranspose(32, (3, 3), activation='relu', padding='same'),\n",
    "            layers.UpSampling2D((2,2)),\n",
    "            layers.Conv2DTranspose(1, (3, 3), activation='sigmoid', padding='same')\n",
    "        ])\n",
    "\n",
    "    def call(self, X):\n",
    "        mu, sigma = self.encoder(X), self.encoder(X)\n",
    "        epsilon = tf.random.normal(tf.shape(sigma))\n",
    "        z = mu + epsilon * tf.exp(0.5 * sigma)\n",
    "        reconstruction = self.decoder(z)\n",
    "        return reconstruction\n",
    "\n",
    "\n",
    "path = '../data/'\n",
    "images = os.listdir(path)\n",
    "image = load_image(path + images[1])\n",
    "\n",
    "latent_dim = 32\n",
    "\n",
    "model = VAE(latent_dim)\n",
    "output = (model(image)[0] * 255.0).numpy()\n",
    "\n",
    "\n",
    "plt.imshow(output, cmap='gray')\n",
    "plt.show()"
   ]
  },
  {
   "cell_type": "code",
   "execution_count": null,
   "metadata": {},
   "outputs": [],
   "source": []
  }
 ],
 "metadata": {
  "kernelspec": {
   "display_name": "machinelearning",
   "language": "python",
   "name": "python3"
  },
  "language_info": {
   "codemirror_mode": {
    "name": "ipython",
    "version": 3
   },
   "file_extension": ".py",
   "mimetype": "text/x-python",
   "name": "python",
   "nbconvert_exporter": "python",
   "pygments_lexer": "ipython3",
   "version": "3.11.4"
  },
  "orig_nbformat": 4
 },
 "nbformat": 4,
 "nbformat_minor": 2
}
