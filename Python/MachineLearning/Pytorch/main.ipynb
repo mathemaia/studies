{
 "cells": [
  {
   "attachments": {},
   "cell_type": "markdown",
   "metadata": {},
   "source": [
    "## Criação da rede neural"
   ]
  },
  {
   "cell_type": "code",
   "execution_count": 8,
   "metadata": {},
   "outputs": [],
   "source": [
    "import torch\n",
    "import numpy as np\n",
    "# Permite utilizar o módulo com todas as utilidades da rede\n",
    "from torch import nn\n",
    "# Classe responsável por criar o dataset\n",
    "from torch.utils.data import Dataset, DataLoader\n",
    "# Separa aleatoriamente amostrar em um intervalo\n",
    "import torch.distributions.uniform as urand\n",
    "\n",
    "\n",
    "# Perceptron\n",
    "class Perceptron(object):\n",
    "    def __init__(self, n_inputs):\n",
    "        self.weights = np.zeros(n_inputs + 1)\n",
    "    \n",
    "    def predict(self, inputs):\n",
    "        summation = np.dot(inputs, self.weights[1:]) + self.weights[0]\n",
    "        if summation > 0:\n",
    "            activation = summation\n",
    "        else:\n",
    "            activation = 0\n",
    "        return activation\n",
    "\n",
    "\n",
    "# Arquitetura\n",
    "class NeuralNetwork(nn.Module):\n",
    "    # Inicialização\n",
    "    def __inti__(self):\n",
    "        super().__init__()\n",
    "        self.layers = nn.Linear(1, 1)\n",
    "\n",
    "    # Computação\n",
    "    def forward(self, x):\n",
    "        return self.layers(x)\n",
    "\n",
    "\n",
    "# Dataset\n",
    "class AlgebricDataset(Dataset):\n",
    "    def __init__(self, f, interval, n_samples):\n",
    "        X = urand.Uniform(interval[0], interval[1]).sample([n_samples]) # Amostra pares ordenados de forma uniforme \n",
    "        self.data = [(x, f(x)) for x in X]\n",
    "    \n",
    "    # Diz quantos dados tem no dataset\n",
    "    def __len__(self):\n",
    "        return len(self.data)\n",
    "\n",
    "    # Busca dados pelo índice\n",
    "    def __getitem__(self, idx):\n",
    "        return self.data[idx]"
   ]
  },
  {
   "attachments": {},
   "cell_type": "markdown",
   "metadata": {},
   "source": [
    "## Preparação do ambiente"
   ]
  },
  {
   "cell_type": "code",
   "execution_count": 10,
   "metadata": {},
   "outputs": [],
   "source": [
    "# Parâmetros para utilizar na rede\n",
    "line = lambda x: 2 * x + 3\n",
    "interval = (-10, 10)\n",
    "train_samples = 1000\n",
    "test_samples = 100\n",
    "\n",
    "\n",
    "# Separação do dataset de treino e de teste\n",
    "train_dataset = AlgebricDataset(line, interval, train_samples)\n",
    "test_dataset = AlgebricDataset(line, interval, train_samples)\n",
    "\n",
    "\n",
    "# Bloco responsável por carregar os dados\n",
    "train_dataloader = DataLoader(train_dataset, batch_size=train_samples, shuffle=True)\n",
    "test_dataloader = DataLoader(test_dataset, batch_size=test_samples, shuffle=True)"
   ]
  },
  {
   "attachments": {},
   "cell_type": "markdown",
   "metadata": {},
   "source": [
    "## Hiperparâmetros de Otimização"
   ]
  },
  {
   "cell_type": "code",
   "execution_count": null,
   "metadata": {},
   "outputs": [],
   "source": [
    "# Verifica se existe uma GPU disponível, caso contrário utiliza a CPU\n",
    "device = \"cuda\" if torch.cuda.is_available() else \"cpu\"\n",
    "\n",
    "\n",
    "# Instancia o modelo\n",
    "model = NeuralNetwork()\n",
    "\n",
    "# Função de perda\n",
    "lossfunc = nn.MSELoss()\n",
    "# Gradiente descendente estocástico\n",
    "optimizer = torch.optim.SGD(model.parameters(), lr=1e-3)"
   ]
  }
 ],
 "metadata": {
  "kernelspec": {
   "display_name": "Python 3",
   "language": "python",
   "name": "python3"
  },
  "language_info": {
   "codemirror_mode": {
    "name": "ipython",
    "version": 3
   },
   "file_extension": ".py",
   "mimetype": "text/x-python",
   "name": "python",
   "nbconvert_exporter": "python",
   "pygments_lexer": "ipython3",
   "version": "3.10.4"
  },
  "orig_nbformat": 4
 },
 "nbformat": 4,
 "nbformat_minor": 2
}
