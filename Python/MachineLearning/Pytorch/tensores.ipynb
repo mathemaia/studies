{
 "cells": [
  {
   "attachments": {},
   "cell_type": "markdown",
   "metadata": {},
   "source": [
    "# **TENSORES**"
   ]
  },
  {
   "attachments": {},
   "cell_type": "markdown",
   "metadata": {},
   "source": [
    "## Gerando tensores"
   ]
  },
  {
   "cell_type": "code",
   "execution_count": 15,
   "metadata": {},
   "outputs": [
    {
     "name": "stdout",
     "output_type": "stream",
     "text": [
      "tensor([[3.1415, 2.7182],\n",
      "        [1.6180, 0.0072]]) \n",
      "\n",
      "tensor([[0.0000e+00, 7.2868e-44],\n",
      "        [2.6395e-09, 8.1258e+20]]) \n",
      "\n",
      "tensor([[0., 0., 0.],\n",
      "        [0., 0., 0.],\n",
      "        [0., 0., 0.],\n",
      "        [0., 0., 0.],\n",
      "        [0., 0., 0.]]) \n",
      "\n",
      "tensor([[1., 1., 1.],\n",
      "        [1., 1., 1.],\n",
      "        [1., 1., 1.]]) \n",
      "\n",
      "tensor([[1, 1],\n",
      "        [1, 1]], dtype=torch.int16) \n",
      "\n",
      "tensor([[0.6886, 0.0740],\n",
      "        [0.8665, 0.1366],\n",
      "        [0.1025, 0.1841]]) \n",
      "\n",
      "tensor([[0.2961, 0.5166, 0.2517]]) \n",
      "\n",
      "tensor([[1., 1., 1.],\n",
      "        [1., 1., 1.]])\n"
     ]
    }
   ],
   "source": [
    "import torch\n",
    "\n",
    "# Tensores com valores constantes\n",
    "constants = torch.tensor([[3.1415, 2.7182], [1.6180, 0.0072]])\n",
    "print(constants, '\\n')\n",
    "\n",
    "# Gerando um tensor vazio\n",
    "print(torch.empty(2, 2), '\\n')\n",
    "\n",
    "# Gerando tensores de zeros\n",
    "print(torch.zeros(5, 3), '\\n')\n",
    "\n",
    "# Gerando tensores de um\n",
    "print(torch.ones(3, 3), '\\n')\n",
    "\n",
    "# Determinando o tipo primitivo\n",
    "print(torch.ones((2, 2), dtype=torch.int16), '\\n')\n",
    "\n",
    "# Gerando tensores de números aleatórios\n",
    "print(torch.rand(3, 2), '\\n')\n",
    "\n",
    "# Gerando tensores de números aleatórios a partir de sementes\n",
    "torch.manual_seed(123)\n",
    "print(torch.rand(1, 3), '\\n')\n",
    "\n",
    "# Transposição de tensores\n",
    "print(torch.ones(3, 2).t())"
   ]
  },
  {
   "attachments": {},
   "cell_type": "markdown",
   "metadata": {},
   "source": [
    "## Operações Matemáticas"
   ]
  },
  {
   "cell_type": "code",
   "execution_count": 3,
   "metadata": {},
   "outputs": [
    {
     "name": "stdout",
     "output_type": "stream",
     "text": [
      "tensor([[2., 2., 2.],\n",
      "        [2., 2., 2.],\n",
      "        [2., 2., 2.],\n",
      "        [2., 2., 2.]]) \n",
      "\n",
      "tensor([[1., 1., 1.],\n",
      "        [1., 1., 1.],\n",
      "        [1., 1., 1.],\n",
      "        [1., 1., 1.]]) \n",
      "\n",
      "tensor([[6., 6., 6., 6.],\n",
      "        [6., 6., 6., 6.],\n",
      "        [6., 6., 6., 6.],\n",
      "        [6., 6., 6., 6.]]) \n",
      "\n",
      "tensor([[0.6886, 0.0740],\n",
      "        [0.8665, 0.1366],\n",
      "        [0.1025, 0.1841]]) \n",
      "\n",
      "tensor([[0.6642, 0.3101],\n",
      "        [0.6343, 0.0756]]) \n",
      "\n",
      "tensor(-0.1038)\n",
      "(tensor(0.1719), tensor(0.6589)) tensor(0.9826)\n"
     ]
    }
   ],
   "source": [
    "# Soma\n",
    "ones = torch.ones(4, 3)\n",
    "twos = ones + ones\n",
    "print(twos, '\\n')\n",
    "\n",
    "# Subtração\n",
    "ones = twos - ones\n",
    "print(ones, '\\n')\n",
    "\n",
    "# Multiplicação\n",
    "mult = twos.mm(ones.t())\n",
    "print(mult, '\\n')\n",
    "\n",
    "# Valor absoluto\n",
    "abs = torch.abs(torch.rand(3, 2) * (-1))\n",
    "print(abs, '\\n')\n",
    "\n",
    "# Função seno\n",
    "sin = torch.sin(torch.rand(2, 2))\n",
    "print(sin, '\\n')\n",
    "\n",
    "# Algebra Linear (determinante)\n",
    "det = torch.det(torch.rand(2, 2))\n",
    "print(det)\n",
    "\n",
    "# Estatística (média e máximo)\n",
    "md = torch.std_mean(torch.rand(2, 3))\n",
    "max = torch.max(torch.rand(2, 3))\n",
    "print(md, max)"
   ]
  },
  {
   "attachments": {},
   "cell_type": "markdown",
   "metadata": {},
   "source": [
    "# Shapes"
   ]
  },
  {
   "cell_type": "code",
   "execution_count": 13,
   "metadata": {},
   "outputs": [
    {
     "name": "stdout",
     "output_type": "stream",
     "text": [
      "torch.Size([2, 2, 2])\n"
     ]
    },
    {
     "data": {
      "text/plain": [
       "tensor([[[0., 0.],\n",
       "         [0., 0.]],\n",
       "\n",
       "        [[0., 0.],\n",
       "         [0., 0.]]])"
      ]
     },
     "execution_count": 13,
     "metadata": {},
     "output_type": "execute_result"
    }
   ],
   "source": [
    "x = torch.empty(2, 2, 2)\n",
    "print(x.shape)\n",
    "\n",
    "empty_like_x = torch.empty_like(x)\n",
    "zeros_like_x = torch.zeros_like(x)\n",
    "zeros_like_x"
   ]
  },
  {
   "cell_type": "code",
   "execution_count": null,
   "metadata": {},
   "outputs": [],
   "source": []
  }
 ],
 "metadata": {
  "kernelspec": {
   "display_name": "Python 3",
   "language": "python",
   "name": "python3"
  },
  "language_info": {
   "codemirror_mode": {
    "name": "ipython",
    "version": 3
   },
   "file_extension": ".py",
   "mimetype": "text/x-python",
   "name": "python",
   "nbconvert_exporter": "python",
   "pygments_lexer": "ipython3",
   "version": "3.9.12"
  },
  "orig_nbformat": 4
 },
 "nbformat": 4,
 "nbformat_minor": 2
}
