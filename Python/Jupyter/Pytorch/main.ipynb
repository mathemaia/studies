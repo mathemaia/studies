{
 "cells": [
  {
   "cell_type": "code",
   "execution_count": null,
   "metadata": {},
   "outputs": [],
   "source": [
    "import torch"
   ]
  },
  {
   "attachments": {},
   "cell_type": "markdown",
   "metadata": {},
   "source": [
    "# Gerando tensores"
   ]
  },
  {
   "cell_type": "code",
   "execution_count": 46,
   "metadata": {},
   "outputs": [
    {
     "name": "stdout",
     "output_type": "stream",
     "text": [
      "tensor([[0., 0., 0.],\n",
      "        [0., 0., 0.],\n",
      "        [0., 0., 0.],\n",
      "        [0., 0., 0.],\n",
      "        [0., 0., 0.]]) \n",
      "\n",
      "tensor([[1., 1., 1.],\n",
      "        [1., 1., 1.],\n",
      "        [1., 1., 1.]]) \n",
      "\n",
      "tensor([[1, 1],\n",
      "        [1, 1]], dtype=torch.int16) \n",
      "\n",
      "tensor([[0.6886, 0.0740],\n",
      "        [0.8665, 0.1366],\n",
      "        [0.1025, 0.1841]]) \n",
      "\n",
      "tensor([[0.2961, 0.5166, 0.2517]]) \n",
      "\n",
      "tensor([[1., 1., 1.],\n",
      "        [1., 1., 1.]])\n"
     ]
    }
   ],
   "source": [
    "# Gerando tensores de zeros\n",
    "print(torch.zeros(5, 3), '\\n')\n",
    "\n",
    "# Gerando tensores de um\n",
    "print(torch.ones(3, 3), '\\n')\n",
    "\n",
    "# Determinando o tipo primitivo\n",
    "print(torch.ones((2, 2), dtype=torch.int16), '\\n')\n",
    "\n",
    "# Gerando tensores de números aleatórios\n",
    "print(torch.rand(3, 2), '\\n')\n",
    "\n",
    "# Gerando tensores de números aleatórios a partir de sementes\n",
    "torch.manual_seed(123)\n",
    "print(torch.rand(1, 3), '\\n')\n",
    "\n",
    "# Transposição de tensores\n",
    "print(torch.ones(3, 2).t())"
   ]
  },
  {
   "attachments": {},
   "cell_type": "markdown",
   "metadata": {},
   "source": [
    "# Operações aritméticas"
   ]
  },
  {
   "cell_type": "code",
   "execution_count": 48,
   "metadata": {},
   "outputs": [
    {
     "name": "stdout",
     "output_type": "stream",
     "text": [
      "tensor([[2., 2., 2.],\n",
      "        [2., 2., 2.],\n",
      "        [2., 2., 2.],\n",
      "        [2., 2., 2.]]) \n",
      "\n",
      "tensor([[1., 1., 1.],\n",
      "        [1., 1., 1.],\n",
      "        [1., 1., 1.],\n",
      "        [1., 1., 1.]]) \n",
      "\n",
      "tensor([[6., 6., 6., 6.],\n",
      "        [6., 6., 6., 6.],\n",
      "        [6., 6., 6., 6.],\n",
      "        [6., 6., 6., 6.]])\n"
     ]
    }
   ],
   "source": [
    "# Soma\n",
    "ones = torch.ones(4, 3)\n",
    "twos = ones + ones\n",
    "print(twos, '\\n')\n",
    "\n",
    "# Subtração\n",
    "ones = twos - ones\n",
    "print(ones, '\\n')\n",
    "\n",
    "# Multiplicação\n",
    "mult = twos.mm(ones.t())\n",
    "print(mult)"
   ]
  }
 ],
 "metadata": {
  "kernelspec": {
   "display_name": "Python 3",
   "language": "python",
   "name": "python3"
  },
  "language_info": {
   "codemirror_mode": {
    "name": "ipython",
    "version": 3
   },
   "file_extension": ".py",
   "mimetype": "text/x-python",
   "name": "python",
   "nbconvert_exporter": "python",
   "pygments_lexer": "ipython3",
   "version": "3.9.12"
  },
  "orig_nbformat": 4
 },
 "nbformat": 4,
 "nbformat_minor": 2
}
