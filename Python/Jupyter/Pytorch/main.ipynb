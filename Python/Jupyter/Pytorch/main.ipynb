{
 "cells": [
  {
   "cell_type": "code",
   "execution_count": 34,
   "metadata": {},
   "outputs": [],
   "source": [
    "import torch"
   ]
  },
  {
   "attachments": {},
   "cell_type": "markdown",
   "metadata": {},
   "source": [
    "# **TENSORES**"
   ]
  },
  {
   "attachments": {},
   "cell_type": "markdown",
   "metadata": {},
   "source": [
    "## Gerando tensores"
   ]
  },
  {
   "cell_type": "code",
   "execution_count": 2,
   "metadata": {},
   "outputs": [
    {
     "name": "stdout",
     "output_type": "stream",
     "text": [
      "tensor([[0., 0., 0.],\n",
      "        [0., 0., 0.],\n",
      "        [0., 0., 0.],\n",
      "        [0., 0., 0.],\n",
      "        [0., 0., 0.]]) \n",
      "\n",
      "tensor([[1., 1., 1.],\n",
      "        [1., 1., 1.],\n",
      "        [1., 1., 1.]]) \n",
      "\n",
      "tensor([[1, 1],\n",
      "        [1, 1]], dtype=torch.int16) \n",
      "\n",
      "tensor([[0.4750, 0.0096],\n",
      "        [0.6490, 0.5245],\n",
      "        [0.2180, 0.9754]]) \n",
      "\n",
      "tensor([[0.2961, 0.5166, 0.2517]]) \n",
      "\n",
      "tensor([[1., 1., 1.],\n",
      "        [1., 1., 1.]])\n"
     ]
    }
   ],
   "source": [
    "# Gerando tensores de zeros\n",
    "print(torch.zeros(5, 3), '\\n')\n",
    "\n",
    "# Gerando tensores de um\n",
    "print(torch.ones(3, 3), '\\n')\n",
    "\n",
    "# Determinando o tipo primitivo\n",
    "print(torch.ones((2, 2), dtype=torch.int16), '\\n')\n",
    "\n",
    "# Gerando tensores de números aleatórios\n",
    "print(torch.rand(3, 2), '\\n')\n",
    "\n",
    "# Gerando tensores de números aleatórios a partir de sementes\n",
    "torch.manual_seed(123)\n",
    "print(torch.rand(1, 3), '\\n')\n",
    "\n",
    "# Transposição de tensores\n",
    "print(torch.ones(3, 2).t())"
   ]
  },
  {
   "attachments": {},
   "cell_type": "markdown",
   "metadata": {},
   "source": [
    "## Operações Matemáticas"
   ]
  },
  {
   "cell_type": "code",
   "execution_count": 33,
   "metadata": {},
   "outputs": [
    {
     "name": "stdout",
     "output_type": "stream",
     "text": [
      "tensor([[2., 2., 2.],\n",
      "        [2., 2., 2.],\n",
      "        [2., 2., 2.],\n",
      "        [2., 2., 2.]]) \n",
      "\n",
      "tensor([[1., 1., 1.],\n",
      "        [1., 1., 1.],\n",
      "        [1., 1., 1.],\n",
      "        [1., 1., 1.]]) \n",
      "\n",
      "tensor([[6., 6., 6., 6.],\n",
      "        [6., 6., 6., 6.],\n",
      "        [6., 6., 6., 6.],\n",
      "        [6., 6., 6., 6.]]) \n",
      "\n",
      "tensor([[0.2132, 0.0206],\n",
      "        [0.3247, 0.9355],\n",
      "        [0.5855, 0.4695]]) \n",
      "\n",
      "tensor([[0.4969, 0.7255],\n",
      "        [0.0584, 0.1140]]) \n",
      "\n",
      "tensor(0.1239)\n",
      "(tensor(0.3907), tensor(0.3012)) tensor(0.9247)\n"
     ]
    }
   ],
   "source": [
    "# Soma\n",
    "ones = torch.ones(4, 3)\n",
    "twos = ones + ones\n",
    "print(twos, '\\n')\n",
    "\n",
    "# Subtração\n",
    "ones = twos - ones\n",
    "print(ones, '\\n')\n",
    "\n",
    "# Multiplicação\n",
    "mult = twos.mm(ones.t())\n",
    "print(mult, '\\n')\n",
    "\n",
    "# Valor absoluto\n",
    "abs = torch.abs(torch.rand(3, 2) * (-1))\n",
    "print(abs, '\\n')\n",
    "\n",
    "# Função seno\n",
    "sin = torch.sin(torch.rand(2, 2))\n",
    "print(sin, '\\n')\n",
    "\n",
    "# Algebra Linear (determinante)\n",
    "det = torch.det(torch.rand(2, 2))\n",
    "print(det)\n",
    "\n",
    "# Estatística (média e máximo)\n",
    "md = torch.std_mean(torch.rand(2, 3))\n",
    "max = torch.max(torch.rand(2, 3))\n",
    "print(md, max)"
   ]
  },
  {
   "cell_type": "code",
   "execution_count": null,
   "metadata": {},
   "outputs": [],
   "source": []
  }
 ],
 "metadata": {
  "kernelspec": {
   "display_name": "Python 3",
   "language": "python",
   "name": "python3"
  },
  "language_info": {
   "codemirror_mode": {
    "name": "ipython",
    "version": 3
   },
   "file_extension": ".py",
   "mimetype": "text/x-python",
   "name": "python",
   "nbconvert_exporter": "python",
   "pygments_lexer": "ipython3",
   "version": "3.9.12"
  },
  "orig_nbformat": 4
 },
 "nbformat": 4,
 "nbformat_minor": 2
}
