{
  "cells": [
    {
      "cell_type": "markdown",
      "metadata": {
        "id": "pnG0Nun9rWgV"
      },
      "source": [
        "## Microdados do Censo da Educação Superior 2021\n",
        "Fonte dos Dados: https://www.gov.br/inep/pt-br/acesso-a-informacao/dados-abertos/microdados/censo-da-educacao-superior\n"
      ]
    },
    {
      "cell_type": "code",
      "source": [
        "#14,15,19,20,25,46"
      ],
      "metadata": {
        "id": "654fjkDlz5kK"
      },
      "execution_count": null,
      "outputs": []
    },
    {
      "cell_type": "code",
      "source": [
        "from google.colab import drive\n",
        "drive.mount('/content/drive')"
      ],
      "metadata": {
        "colab": {
          "base_uri": "https://localhost:8080/"
        },
        "id": "21S_68IdrZYQ",
        "outputId": "c6b62731-6afe-4e94-d7e4-5d605df6d077"
      },
      "execution_count": 1,
      "outputs": [
        {
          "output_type": "stream",
          "name": "stdout",
          "text": [
            "Mounted at /content/drive\n"
          ]
        }
      ]
    },
    {
      "cell_type": "code",
      "execution_count": 2,
      "metadata": {
        "id": "b8-gSt4crWgd"
      },
      "outputs": [],
      "source": [
        "#Bibliotecas\n",
        "import pandas as pd\n",
        "import numpy as np"
      ]
    },
    {
      "cell_type": "code",
      "execution_count": 18,
      "metadata": {
        "id": "jwfcK9csrWgg"
      },
      "outputs": [],
      "source": [
        "dados = pd.read_table(\"/content/drive/MyDrive/CDIA 2023 1/Coleta, Preparação e Análise de Dados/T2/MICRODADOS_CADASTRO_IES_2021.CSV\", encoding='latin-1', delimiter=';') #Lê csv"
      ]
    },
    {
      "cell_type": "markdown",
      "metadata": {
        "id": "nu5bc6VArWgk"
      },
      "source": [
        "### Sugestão do professor, reduzir o número de entries a partir de algum tipo de filtragem"
      ]
    },
    {
      "cell_type": "code",
      "source": [
        "dados['NO_REGIAO_IES'].unique()"
      ],
      "metadata": {
        "colab": {
          "base_uri": "https://localhost:8080/"
        },
        "id": "blg6djsX0z4r",
        "outputId": "a34e3885-d27e-4057-a310-87bb057211c1"
      },
      "execution_count": 21,
      "outputs": [
        {
          "output_type": "execute_result",
          "data": {
            "text/plain": [
              "array(['Centro-Oeste', 'Nordeste', 'Norte', 'Sudeste', 'Sul'],\n",
              "      dtype=object)"
            ]
          },
          "metadata": {},
          "execution_count": 21
        }
      ]
    },
    {
      "cell_type": "code",
      "source": [
        "dadosSul = dados[dados['NO_REGIAO_IES']=='Sul']"
      ],
      "metadata": {
        "id": "FSxIeWs91ADp"
      },
      "execution_count": 22,
      "outputs": []
    },
    {
      "cell_type": "code",
      "source": [
        "dadosSul[]"
      ],
      "metadata": {
        "id": "BLCCCeSp1HHT"
      },
      "execution_count": null,
      "outputs": []
    },
    {
      "cell_type": "code",
      "source": [
        "dadosSul = dadosSul[['SG_UF_IES',\"TP_ORGANIZACAO_ACADEMICA\",\"TP_CATEGORIA_ADMINISTRATIVA\",\"NO_IES\",'SG_IES',\"NU_CEP_IES\",\"QT_DOC_TOTAL\",\"QT_DOC_EX_FEMI\",\"QT_DOC_EX_MASC\"]]"
      ],
      "metadata": {
        "id": "wx24vDZK1Kuh"
      },
      "execution_count": null,
      "outputs": []
    },
    {
      "cell_type": "code",
      "source": [
        "dadosSul.head()"
      ],
      "metadata": {
        "colab": {
          "base_uri": "https://localhost:8080/",
          "height": 472
        },
        "id": "TKemFAPM32k5",
        "outputId": "a8dd4faa-0724-486a-f929-61e7962989be"
      },
      "execution_count": 27,
      "outputs": [
        {
          "output_type": "execute_result",
          "data": {
            "text/plain": [
              "   SG_UF_IES  TP_ORGANIZACAO_ACADEMICA  TP_CATEGORIA_ADMINISTRATIVA  \\\n",
              "8         PR                         1                            2   \n",
              "9         PR                         1                            5   \n",
              "11        RS                         1                            1   \n",
              "12        RS                         1                            5   \n",
              "13        RS                         1                            5   \n",
              "\n",
              "                                        NO_IES    SG_IES  NU_CEP_IES  \\\n",
              "8            UNIVERSIDADE ESTADUAL DE LONDRINA       UEL  86057970.0   \n",
              "9   PONTIFÍCIA UNIVERSIDADE CATÓLICA DO PARANÁ     PUCPR  80215901.0   \n",
              "11          UNIVERSIDADE FEDERAL DO RIO GRANDE      FURG  96203900.0   \n",
              "12               UNIVERSIDADE DE CAXIAS DO SUL       UCS  95070560.0   \n",
              "13       UNIVERSIDADE DO VALE DO RIO DOS SINOS  UNISINOS  93022750.0   \n",
              "\n",
              "    QT_DOC_TOTAL  QT_DOC_EX_FEMI  QT_DOC_EX_MASC  \n",
              "8           1820             932             860  \n",
              "9           1349             575             774  \n",
              "11           986             479             491  \n",
              "12           796             409             379  \n",
              "13           917             431             471  "
            ],
            "text/html": [
              "\n",
              "  <div id=\"df-b685627b-5d9e-4722-87bc-fb582ea734b2\">\n",
              "    <div class=\"colab-df-container\">\n",
              "      <div>\n",
              "<style scoped>\n",
              "    .dataframe tbody tr th:only-of-type {\n",
              "        vertical-align: middle;\n",
              "    }\n",
              "\n",
              "    .dataframe tbody tr th {\n",
              "        vertical-align: top;\n",
              "    }\n",
              "\n",
              "    .dataframe thead th {\n",
              "        text-align: right;\n",
              "    }\n",
              "</style>\n",
              "<table border=\"1\" class=\"dataframe\">\n",
              "  <thead>\n",
              "    <tr style=\"text-align: right;\">\n",
              "      <th></th>\n",
              "      <th>SG_UF_IES</th>\n",
              "      <th>TP_ORGANIZACAO_ACADEMICA</th>\n",
              "      <th>TP_CATEGORIA_ADMINISTRATIVA</th>\n",
              "      <th>NO_IES</th>\n",
              "      <th>SG_IES</th>\n",
              "      <th>NU_CEP_IES</th>\n",
              "      <th>QT_DOC_TOTAL</th>\n",
              "      <th>QT_DOC_EX_FEMI</th>\n",
              "      <th>QT_DOC_EX_MASC</th>\n",
              "    </tr>\n",
              "  </thead>\n",
              "  <tbody>\n",
              "    <tr>\n",
              "      <th>8</th>\n",
              "      <td>PR</td>\n",
              "      <td>1</td>\n",
              "      <td>2</td>\n",
              "      <td>UNIVERSIDADE ESTADUAL DE LONDRINA</td>\n",
              "      <td>UEL</td>\n",
              "      <td>86057970.0</td>\n",
              "      <td>1820</td>\n",
              "      <td>932</td>\n",
              "      <td>860</td>\n",
              "    </tr>\n",
              "    <tr>\n",
              "      <th>9</th>\n",
              "      <td>PR</td>\n",
              "      <td>1</td>\n",
              "      <td>5</td>\n",
              "      <td>PONTIFÍCIA UNIVERSIDADE CATÓLICA DO PARANÁ</td>\n",
              "      <td>PUCPR</td>\n",
              "      <td>80215901.0</td>\n",
              "      <td>1349</td>\n",
              "      <td>575</td>\n",
              "      <td>774</td>\n",
              "    </tr>\n",
              "    <tr>\n",
              "      <th>11</th>\n",
              "      <td>RS</td>\n",
              "      <td>1</td>\n",
              "      <td>1</td>\n",
              "      <td>UNIVERSIDADE FEDERAL DO RIO GRANDE</td>\n",
              "      <td>FURG</td>\n",
              "      <td>96203900.0</td>\n",
              "      <td>986</td>\n",
              "      <td>479</td>\n",
              "      <td>491</td>\n",
              "    </tr>\n",
              "    <tr>\n",
              "      <th>12</th>\n",
              "      <td>RS</td>\n",
              "      <td>1</td>\n",
              "      <td>5</td>\n",
              "      <td>UNIVERSIDADE DE CAXIAS DO SUL</td>\n",
              "      <td>UCS</td>\n",
              "      <td>95070560.0</td>\n",
              "      <td>796</td>\n",
              "      <td>409</td>\n",
              "      <td>379</td>\n",
              "    </tr>\n",
              "    <tr>\n",
              "      <th>13</th>\n",
              "      <td>RS</td>\n",
              "      <td>1</td>\n",
              "      <td>5</td>\n",
              "      <td>UNIVERSIDADE DO VALE DO RIO DOS SINOS</td>\n",
              "      <td>UNISINOS</td>\n",
              "      <td>93022750.0</td>\n",
              "      <td>917</td>\n",
              "      <td>431</td>\n",
              "      <td>471</td>\n",
              "    </tr>\n",
              "  </tbody>\n",
              "</table>\n",
              "</div>\n",
              "      <button class=\"colab-df-convert\" onclick=\"convertToInteractive('df-b685627b-5d9e-4722-87bc-fb582ea734b2')\"\n",
              "              title=\"Convert this dataframe to an interactive table.\"\n",
              "              style=\"display:none;\">\n",
              "        \n",
              "  <svg xmlns=\"http://www.w3.org/2000/svg\" height=\"24px\"viewBox=\"0 0 24 24\"\n",
              "       width=\"24px\">\n",
              "    <path d=\"M0 0h24v24H0V0z\" fill=\"none\"/>\n",
              "    <path d=\"M18.56 5.44l.94 2.06.94-2.06 2.06-.94-2.06-.94-.94-2.06-.94 2.06-2.06.94zm-11 1L8.5 8.5l.94-2.06 2.06-.94-2.06-.94L8.5 2.5l-.94 2.06-2.06.94zm10 10l.94 2.06.94-2.06 2.06-.94-2.06-.94-.94-2.06-.94 2.06-2.06.94z\"/><path d=\"M17.41 7.96l-1.37-1.37c-.4-.4-.92-.59-1.43-.59-.52 0-1.04.2-1.43.59L10.3 9.45l-7.72 7.72c-.78.78-.78 2.05 0 2.83L4 21.41c.39.39.9.59 1.41.59.51 0 1.02-.2 1.41-.59l7.78-7.78 2.81-2.81c.8-.78.8-2.07 0-2.86zM5.41 20L4 18.59l7.72-7.72 1.47 1.35L5.41 20z\"/>\n",
              "  </svg>\n",
              "      </button>\n",
              "      \n",
              "  <style>\n",
              "    .colab-df-container {\n",
              "      display:flex;\n",
              "      flex-wrap:wrap;\n",
              "      gap: 12px;\n",
              "    }\n",
              "\n",
              "    .colab-df-convert {\n",
              "      background-color: #E8F0FE;\n",
              "      border: none;\n",
              "      border-radius: 50%;\n",
              "      cursor: pointer;\n",
              "      display: none;\n",
              "      fill: #1967D2;\n",
              "      height: 32px;\n",
              "      padding: 0 0 0 0;\n",
              "      width: 32px;\n",
              "    }\n",
              "\n",
              "    .colab-df-convert:hover {\n",
              "      background-color: #E2EBFA;\n",
              "      box-shadow: 0px 1px 2px rgba(60, 64, 67, 0.3), 0px 1px 3px 1px rgba(60, 64, 67, 0.15);\n",
              "      fill: #174EA6;\n",
              "    }\n",
              "\n",
              "    [theme=dark] .colab-df-convert {\n",
              "      background-color: #3B4455;\n",
              "      fill: #D2E3FC;\n",
              "    }\n",
              "\n",
              "    [theme=dark] .colab-df-convert:hover {\n",
              "      background-color: #434B5C;\n",
              "      box-shadow: 0px 1px 3px 1px rgba(0, 0, 0, 0.15);\n",
              "      filter: drop-shadow(0px 1px 2px rgba(0, 0, 0, 0.3));\n",
              "      fill: #FFFFFF;\n",
              "    }\n",
              "  </style>\n",
              "\n",
              "      <script>\n",
              "        const buttonEl =\n",
              "          document.querySelector('#df-b685627b-5d9e-4722-87bc-fb582ea734b2 button.colab-df-convert');\n",
              "        buttonEl.style.display =\n",
              "          google.colab.kernel.accessAllowed ? 'block' : 'none';\n",
              "\n",
              "        async function convertToInteractive(key) {\n",
              "          const element = document.querySelector('#df-b685627b-5d9e-4722-87bc-fb582ea734b2');\n",
              "          const dataTable =\n",
              "            await google.colab.kernel.invokeFunction('convertToInteractive',\n",
              "                                                     [key], {});\n",
              "          if (!dataTable) return;\n",
              "\n",
              "          const docLinkHtml = 'Like what you see? Visit the ' +\n",
              "            '<a target=\"_blank\" href=https://colab.research.google.com/notebooks/data_table.ipynb>data table notebook</a>'\n",
              "            + ' to learn more about interactive tables.';\n",
              "          element.innerHTML = '';\n",
              "          dataTable['output_type'] = 'display_data';\n",
              "          await google.colab.output.renderOutput(dataTable, element);\n",
              "          const docLink = document.createElement('div');\n",
              "          docLink.innerHTML = docLinkHtml;\n",
              "          element.appendChild(docLink);\n",
              "        }\n",
              "      </script>\n",
              "    </div>\n",
              "  </div>\n",
              "  "
            ]
          },
          "metadata": {},
          "execution_count": 27
        }
      ]
    },
    {
      "cell_type": "code",
      "source": [
        "dadosSul.to_json(\"DadosIES_Sul.json\")"
      ],
      "metadata": {
        "id": "vdwd9-mG4Ak_"
      },
      "execution_count": 29,
      "outputs": []
    }
  ],
  "metadata": {
    "kernelspec": {
      "display_name": "Python 3",
      "language": "python",
      "name": "python3"
    },
    "language_info": {
      "codemirror_mode": {
        "name": "ipython",
        "version": 3
      },
      "file_extension": ".py",
      "mimetype": "text/x-python",
      "name": "python",
      "nbconvert_exporter": "python",
      "pygments_lexer": "ipython3",
      "version": "3.10.9"
    },
    "orig_nbformat": 4,
    "colab": {
      "provenance": []
    }
  },
  "nbformat": 4,
  "nbformat_minor": 0
}