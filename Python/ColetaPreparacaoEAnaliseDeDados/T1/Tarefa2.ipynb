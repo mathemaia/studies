{
 "cells": [
  {
   "attachments": {},
   "cell_type": "markdown",
   "metadata": {},
   "source": [
    "# 1) Faça scraping para obter os 250 filmes com as maiores avaliações do IMDB. Existe uma página do imdb que possui essa listagem."
   ]
  },
  {
   "cell_type": "code",
   "execution_count": 4,
   "metadata": {},
   "outputs": [],
   "source": [
    "from bs4 import BeautifulSoup\n",
    "import pandas as pd\n",
    "import requests\n",
    "\n",
    "\n",
    "# Faz a requisição da página inicial\n",
    "response = requests.get('https://www.imdb.com/', headers={'User-Agent': 'Mozilla/5.0'})\n",
    "soup = BeautifulSoup(response.content)\n",
    "\n",
    "\n",
    "# Faz uma lista com as tags <a>\n",
    "a_tag = [tag for tag in soup.body.find_all(attrs={'role': 'menuitem'})]\n",
    "\n",
    "\n",
    "# Filtra a lista para as tags que possuem href\n",
    "def has_href(value):\n",
    "    if value.has_attr('href'):\n",
    "        return value\n",
    "    else: \n",
    "        return None\n",
    "a_tag = list(filter(has_href, a_tag))\n",
    "\n",
    "\n",
    "# Filtra a lista para deixar apenas a que contém o link para a página dos Top250 Filmes\n",
    "def taking_href(value):\n",
    "    if value['href'] == '/chart/top/?ref_=nv_mv_250':\n",
    "        return value\n",
    "    else:\n",
    "        None\n",
    "a_tag = list(filter(taking_href, a_tag))\n",
    "\n",
    "\n",
    "# Atribui o link dos Top250 a uma variavel\n",
    "href_link = a_tag[0]['href']"
   ]
  },
  {
   "cell_type": "code",
   "execution_count": 64,
   "metadata": {},
   "outputs": [
    {
     "name": "stdout",
     "output_type": "stream",
     "text": [
      "<Response [200]>\n"
     ]
    }
   ],
   "source": [
    "# Faz a requisição do da página dos Top250 Filmes\n",
    "response = requests.get('https://www.imdb.com' + href_link, headers={'User-Agent': 'Mozilla/5.0'})\n",
    "soup = BeautifulSoup(response.content)\n",
    "\n"
   ]
  },
  {
   "cell_type": "code",
   "execution_count": null,
   "metadata": {},
   "outputs": [],
   "source": []
  }
 ],
 "metadata": {
  "kernelspec": {
   "display_name": "base",
   "language": "python",
   "name": "python3"
  },
  "language_info": {
   "codemirror_mode": {
    "name": "ipython",
    "version": 3
   },
   "file_extension": ".py",
   "mimetype": "text/x-python",
   "name": "python",
   "nbconvert_exporter": "python",
   "pygments_lexer": "ipython3",
   "version": "3.9.12"
  },
  "orig_nbformat": 4
 },
 "nbformat": 4,
 "nbformat_minor": 2
}
