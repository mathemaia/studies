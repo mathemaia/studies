{
 "cells": [
  {
   "cell_type": "code",
   "execution_count": 1,
   "metadata": {},
   "outputs": [],
   "source": [
    "import pyttsx3\n",
    "\n",
    "# inicializa a engine\n",
    "engine = pyttsx3.init()\n",
    "\n",
    "text = 'Esse erro é retornado pela API da OpenAI quando a solicitação excede a cota atualmente disponível para o plano de cobrança associado à sua chave de API. A mensagem de erro indica que a solicitação não pôde ser concluída devido a uma \"quota insuficiente\". Isso significa que o número de solicitações que você fez excedeu o limite permitido para o seu plano atual de cobrança da OpenAI. Para continuar usando a API, você precisará atualizar seu plano ou esperar até que a cota seja renovada, dependendo das políticas do plano que você escolheu. Você pode verificar a cota atual e o status da sua conta de cobrança da OpenAI na sua conta do painel da OpenAI. Além disso, a documentação da API da OpenAI descreve as diferentes opções de planos de cobrança e suas respectivas cotas.'\n",
    "\n",
    "# define a voz (opcional)\n",
    "engine.setProperty('voice','brazil') # seleciona a segunda voz da lista\n",
    "\n",
    "# lê o texto\n",
    "engine.say(text)\n",
    "engine.runAndWait()\n"
   ]
  },
  {
   "cell_type": "code",
   "execution_count": 20,
   "metadata": {},
   "outputs": [
    {
     "name": "stdout",
     "output_type": "stream",
     "text": [
      "<200>    Solicitação bem-sucedida.\n",
      "<429>    Falha na solicitação.\n",
      "{\n",
      "    \"error\": {\n",
      "        \"message\": \"You exceeded your current quota, please check your plan and billing details.\",\n",
      "        \"type\": \"insufficient_quota\",\n",
      "        \"param\": null,\n",
      "        \"code\": null\n",
      "    }\n",
      "}\n",
      "\n"
     ]
    }
   ],
   "source": [
    "from key import API_KEY\n",
    "import requests\n",
    "import json\n",
    "\n",
    "\n",
    "# define os cabeçalhos da requisição\n",
    "headers = {'Authorization': f'Bearer {API_KEY}', 'Content-Type': 'application/json'}\n",
    "\n",
    "# link com todos os modelos da openai\n",
    "link = 'https://api.openai.com/v1/models'\n",
    "\n",
    "# faz a requisição de todos os modelos da openai.com\n",
    "response = requests.get(link, headers=headers)\n",
    "if response.status_code == 200:\n",
    "    print(f'<{response.status_code}>    Solicitação bem-sucedida.')\n",
    "else:\n",
    "    print(f'<{response.status_code}>    Falha na solicitação.')\n",
    "id_model = 'gpt-3.5-turbo'    \n",
    "\n",
    "# configurações sobre o prompt de entrada\n",
    "body_message = {'model': id_model, 'messages': [{'role': 'user', 'content': 'me escreva um poema sobre a linguagem de programação python'}]}\n",
    "body_message = json.dumps(body_message)\n",
    "\n",
    "# faz a requisição para o modelo gpt-3.5-turbo\n",
    "link = 'https://api.openai.com/v1/chat/completions'\n",
    "response = requests.post(link, headers=headers, data=body_message)\n",
    "if response.status_code == 200:\n",
    "    print(f'<{response.status_code}>    Solicitação bem-sucedida.')\n",
    "else:\n",
    "    print(f'<{response.status_code}>    Falha na solicitação.')\n",
    "\n",
    "# resposta do chatgpt\n",
    "print(response.text)"
   ]
  },
  {
   "cell_type": "code",
   "execution_count": null,
   "metadata": {},
   "outputs": [],
   "source": []
  }
 ],
 "metadata": {
  "kernelspec": {
   "display_name": "Python 3",
   "language": "python",
   "name": "python3"
  },
  "language_info": {
   "codemirror_mode": {
    "name": "ipython",
    "version": 3
   },
   "file_extension": ".py",
   "mimetype": "text/x-python",
   "name": "python",
   "nbconvert_exporter": "python",
   "pygments_lexer": "ipython3",
   "version": "3.10.9"
  },
  "orig_nbformat": 4
 },
 "nbformat": 4,
 "nbformat_minor": 2
}
