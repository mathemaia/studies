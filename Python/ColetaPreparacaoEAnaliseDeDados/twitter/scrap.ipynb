{
 "cells": [
  {
   "cell_type": "code",
   "execution_count": 74,
   "metadata": {},
   "outputs": [],
   "source": [
    "import tweepy as tw\n",
    "import pandas as pd\n",
    "from key import *\n",
    "import matplotlib.pyplot as plt\n",
    "import numpy as np\n",
    "from sklearn.cluster import KMeans\n",
    "from sklearn.preprocessing import OneHotEncoder\n",
    "\n",
    "# keys e tokens de acesso\n",
    "bearer_token = BEARER_TOKEN\n",
    "consumer_key = API_KEY\n",
    "consumer_secret = API_KEY_SECRET\n",
    "access_token = ACCESS_TOKEN\n",
    "access_token_secret = ACCESS_TOKEN_SECRET\n",
    "\n",
    "# configuração de acesso\n",
    "auth = tw.OAuthHandler(consumer_key, consumer_secret, access_token, access_token_secret)\n",
    "api = tw.API(auth)"
   ]
  },
  {
   "cell_type": "code",
   "execution_count": 93,
   "metadata": {},
   "outputs": [
    {
     "name": "stdout",
     "output_type": "stream",
     "text": [
      "<class 'pandas.core.frame.DataFrame'>\n",
      "RangeIndex: 355 entries, 0 to 354\n",
      "Data columns (total 5 columns):\n",
      " #   Column    Non-Null Count  Dtype              \n",
      "---  ------    --------------  -----              \n",
      " 0   user      355 non-null    object             \n",
      " 1   text      355 non-null    object             \n",
      " 2   hashtags  355 non-null    object             \n",
      " 3   location  355 non-null    object             \n",
      " 4   date      355 non-null    datetime64[ns, UTC]\n",
      "dtypes: datetime64[ns, UTC](1), object(4)\n",
      "memory usage: 14.0+ KB\n",
      "None\n"
     ]
    },
    {
     "data": {
      "text/html": [
       "<div>\n",
       "<style scoped>\n",
       "    .dataframe tbody tr th:only-of-type {\n",
       "        vertical-align: middle;\n",
       "    }\n",
       "\n",
       "    .dataframe tbody tr th {\n",
       "        vertical-align: top;\n",
       "    }\n",
       "\n",
       "    .dataframe thead th {\n",
       "        text-align: right;\n",
       "    }\n",
       "</style>\n",
       "<table border=\"1\" class=\"dataframe\">\n",
       "  <thead>\n",
       "    <tr style=\"text-align: right;\">\n",
       "      <th></th>\n",
       "      <th>user</th>\n",
       "      <th>text</th>\n",
       "      <th>hashtags</th>\n",
       "      <th>location</th>\n",
       "      <th>date</th>\n",
       "    </tr>\n",
       "  </thead>\n",
       "  <tbody>\n",
       "    <tr>\n",
       "      <th>0</th>\n",
       "      <td>ExploraNoticias</td>\n",
       "      <td>🟠🟠CURIOSIDADES | Fortão brutamontes vs Delicad...</td>\n",
       "      <td>[Noticias, LulaLadrao, Janja, Portugal, Lisboa...</td>\n",
       "      <td>São Paulo, Brasil</td>\n",
       "      <td>2023-04-22 03:33:57+00:00</td>\n",
       "    </tr>\n",
       "    <tr>\n",
       "      <th>1</th>\n",
       "      <td>fellipebambam</td>\n",
       "      <td>Bolsa na Europa\\n\\nA primeira-dama, fútil e in...</td>\n",
       "      <td>[Janja, Portugal, Celine]</td>\n",
       "      <td>Recife, Brazil</td>\n",
       "      <td>2023-04-22 03:31:01+00:00</td>\n",
       "    </tr>\n",
       "    <tr>\n",
       "      <th>2</th>\n",
       "      <td>GlaucioLinhares</td>\n",
       "      <td>#LULA foge do Brasil, #Janja mostra sua #hipoc...</td>\n",
       "      <td>[LULA, Janja, hipocrisisa]</td>\n",
       "      <td>Bathing Resort Camboriú</td>\n",
       "      <td>2023-04-22 03:29:31+00:00</td>\n",
       "    </tr>\n",
       "    <tr>\n",
       "      <th>3</th>\n",
       "      <td>Menthor_72</td>\n",
       "      <td>Socialismo e o Amor Venceu!!!\\n\\n#Janja #PT #B...</td>\n",
       "      <td>[Janja, PT, Brasil]</td>\n",
       "      <td>Aparecida de Goiânia, Brasil</td>\n",
       "      <td>2023-04-22 03:12:53+00:00</td>\n",
       "    </tr>\n",
       "    <tr>\n",
       "      <th>4</th>\n",
       "      <td>ailtondalvi</td>\n",
       "      <td>@Biakicis É memo? Acabou o assunto? #Janja.</td>\n",
       "      <td>[Janja]</td>\n",
       "      <td></td>\n",
       "      <td>2023-04-22 02:34:20+00:00</td>\n",
       "    </tr>\n",
       "  </tbody>\n",
       "</table>\n",
       "</div>"
      ],
      "text/plain": [
       "              user                                               text  \\\n",
       "0  ExploraNoticias  🟠🟠CURIOSIDADES | Fortão brutamontes vs Delicad...   \n",
       "1    fellipebambam  Bolsa na Europa\\n\\nA primeira-dama, fútil e in...   \n",
       "2  GlaucioLinhares  #LULA foge do Brasil, #Janja mostra sua #hipoc...   \n",
       "3       Menthor_72  Socialismo e o Amor Venceu!!!\\n\\n#Janja #PT #B...   \n",
       "4      ailtondalvi        @Biakicis É memo? Acabou o assunto? #Janja.   \n",
       "\n",
       "                                            hashtags  \\\n",
       "0  [Noticias, LulaLadrao, Janja, Portugal, Lisboa...   \n",
       "1                          [Janja, Portugal, Celine]   \n",
       "2                         [LULA, Janja, hipocrisisa]   \n",
       "3                                [Janja, PT, Brasil]   \n",
       "4                                            [Janja]   \n",
       "\n",
       "                       location                      date  \n",
       "0             São Paulo, Brasil 2023-04-22 03:33:57+00:00  \n",
       "1                Recife, Brazil 2023-04-22 03:31:01+00:00  \n",
       "2       Bathing Resort Camboriú 2023-04-22 03:29:31+00:00  \n",
       "3  Aparecida de Goiânia, Brasil 2023-04-22 03:12:53+00:00  \n",
       "4                               2023-04-22 02:34:20+00:00  "
      ]
     },
     "metadata": {},
     "output_type": "display_data"
    }
   ],
   "source": [
    "# configurações sobre a busca a ser feita\n",
    "tweets = tw.Cursor(api.search_tweets, q='#Janja', count=40000, lang='pt', result_type='recent')\n",
    "\n",
    "# valores das chaves do dicionário\n",
    "date = []\n",
    "hashtags = []\n",
    "location = []\n",
    "text = []\n",
    "user = []\n",
    "\n",
    "# webscrap\n",
    "for tweet in tweets.items():\n",
    "    if not tweet.retweeted and 'RT @' not in tweet.text:\n",
    "        date.append(tweet.created_at)\n",
    "        hashtags.append(list(map(lambda x: x['text'], tweet.entities['hashtags'])))\n",
    "        location.append(tweet.user.location)\n",
    "        text.append(tweet.text)\n",
    "        user.append(tweet.user.screen_name)\n",
    " \n",
    "# criação do dataframe\n",
    "df = pd.DataFrame({'user': user, 'text': text, 'hashtags': hashtags, 'location': location, 'date': date})\n",
    "\n",
    "print(df.info())\n",
    "display(df.head())"
   ]
  },
  {
   "cell_type": "code",
   "execution_count": 94,
   "metadata": {},
   "outputs": [
    {
     "data": {
      "text/plain": [
       "0      🟠🟠CURIOSIDADES | Fortão brutamontes vs Delicad...\n",
       "1      Bolsa na Europa\\n\\nA primeira-dama, fútil e in...\n",
       "2      #LULA foge do Brasil, #Janja mostra sua #hipoc...\n",
       "3      Socialismo e o Amor Venceu!!!\\n\\n#Janja #PT #B...\n",
       "4            @Biakicis É memo? Acabou o assunto? #Janja.\n",
       "                             ...                        \n",
       "350    #Tadeu\\n#lamentável \\n#Astrazeneca \\n#janja\\nF...\n",
       "351    100 dias de \"NADA\"\\n#LULAPRESIDENTE #JANJA htt...\n",
       "352    E a farra do $$ público!!\\n Queria entender qu...\n",
       "353    🟠O PAI DOS POBRES AMA O LUXO | Governo gastou ...\n",
       "354    O Governo Lula (PT) gastou R$ 196.770 em cinco...\n",
       "Name: text, Length: 355, dtype: object"
      ]
     },
     "execution_count": 94,
     "metadata": {},
     "output_type": "execute_result"
    }
   ],
   "source": [
    "df['text']"
   ]
  }
 ],
 "metadata": {
  "kernelspec": {
   "display_name": "Python 3",
   "language": "python",
   "name": "python3"
  },
  "language_info": {
   "codemirror_mode": {
    "name": "ipython",
    "version": 3
   },
   "file_extension": ".py",
   "mimetype": "text/x-python",
   "name": "python",
   "nbconvert_exporter": "python",
   "pygments_lexer": "ipython3",
   "version": "3.10.9"
  },
  "orig_nbformat": 4
 },
 "nbformat": 4,
 "nbformat_minor": 2
}
